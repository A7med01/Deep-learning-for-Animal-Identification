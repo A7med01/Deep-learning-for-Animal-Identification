{
  "nbformat": 4,
  "nbformat_minor": 0,
  "metadata": {
    "colab": {
      "name": "Identify the Animal_novalid_colab_GitHub.ipynb",
      "version": "0.3.2",
      "provenance": [],
      "collapsed_sections": [
        "Txu04YOgvh6i",
        "U4qraUZlsXyW",
        "ENgzcUSmsuZ4",
        "gTgv7aadt6Qq",
        "AGnx1_CHuMJM",
        "ZxUvWWxzx1dm",
        "vSZ858IC0h6e",
        "1R8tl600x-e8",
        "bAxPFHOGU9ZG",
        "20-bDejgz7YM",
        "TQTPjt0chHTE",
        "WHOZHGOq0GtW",
        "nN4FgKoHqa9c",
        "5NHaPMDJWN2q",
        "T6_Z5fgYFSoA",
        "9xJ-UIy8DxeS"
      ]
    },
    "kernelspec": {
      "display_name": "Python 3",
      "language": "python",
      "name": "python3"
    },
    "accelerator": "GPU"
  },
  "cells": [
    {
      "metadata": {
        "id": "Txu04YOgvh6i",
        "colab_type": "text"
      },
      "cell_type": "markdown",
      "source": [
        "# Prepareing notebook"
      ]
    },
    {
      "metadata": {
        "id": "U4qraUZlsXyW",
        "colab_type": "text"
      },
      "cell_type": "markdown",
      "source": [
        "## Installing Fast.ai through clouderizer "
      ]
    },
    {
      "metadata": {
        "id": "3UpopmdXdPuu",
        "colab_type": "code",
        "colab": {}
      },
      "cell_type": "code",
      "source": [
        "!wget -NS --content-disposition \"https://console.clouderizer.com/givemeinitsh/hR1mde3W\" && bash ./clouderizer_init.sh"
      ],
      "execution_count": 0,
      "outputs": []
    },
    {
      "metadata": {
        "id": "ENgzcUSmsuZ4",
        "colab_type": "text"
      },
      "cell_type": "markdown",
      "source": [
        "## instaling libraries for plotting images "
      ]
    },
    {
      "metadata": {
        "id": "KNQ3KOaptanG",
        "colab_type": "code",
        "colab": {}
      },
      "cell_type": "code",
      "source": [
        "!pip install Pillow==4.0.0\n",
        "!pip install PIL\n",
        "!pip install image"
      ],
      "execution_count": 0,
      "outputs": []
    },
    {
      "metadata": {
        "id": "gTgv7aadt6Qq",
        "colab_type": "text"
      },
      "cell_type": "markdown",
      "source": [
        "#Getting the data "
      ]
    },
    {
      "metadata": {
        "id": "AGnx1_CHuMJM",
        "colab_type": "text"
      },
      "cell_type": "markdown",
      "source": [
        "## Downloading from internet"
      ]
    },
    {
      "metadata": {
        "id": "KU0yBYDPRoHN",
        "colab_type": "code",
        "colab": {}
      },
      "cell_type": "code",
      "source": [
        "!apt-get install p7zip-full"
      ],
      "execution_count": 0,
      "outputs": []
    },
    {
      "metadata": {
        "id": "80GJzc3xJb1l",
        "colab_type": "code",
        "colab": {}
      },
      "cell_type": "code",
      "source": [
        "!wget https://s3-ap-southeast-1.amazonaws.com/he-public-data/DL%23+Beginner.zip"
      ],
      "execution_count": 0,
      "outputs": []
    },
    {
      "metadata": {
        "id": "5BFwhL49RDJY",
        "colab_type": "code",
        "colab": {}
      },
      "cell_type": "code",
      "source": [
        "mv 'DL#+Beginner.zip' 'DLBeginner.zip'"
      ],
      "execution_count": 0,
      "outputs": []
    },
    {
      "metadata": {
        "id": "RE8dgFYdRZ9i",
        "colab_type": "code",
        "outputId": "28519ab9-c88a-48c1-857d-d8930f752e7c",
        "colab": {
          "base_uri": "https://localhost:8080/",
          "height": 34
        }
      },
      "cell_type": "code",
      "source": [
        "rm -r DL#+Beginner.zip.1"
      ],
      "execution_count": 0,
      "outputs": [
        {
          "output_type": "stream",
          "text": [
            "rm: cannot remove 'DL#+Beginner.zip.1': No such file or directory\r\n"
          ],
          "name": "stdout"
        }
      ]
    },
    {
      "metadata": {
        "id": "6ypLfSKdRRqM",
        "colab_type": "code",
        "outputId": "91d67115-e96b-4d59-e139-9a62a1ef7e78",
        "colab": {
          "base_uri": "https://localhost:8080/",
          "height": 102
        }
      },
      "cell_type": "code",
      "source": [
        "ls{'/content/'}"
      ],
      "execution_count": 0,
      "outputs": [
        {
          "output_type": "stream",
          "text": [
            "\u001b[0m\u001b[01;34mclouderizer\u001b[0m/         DLBeginner.zip                  updatestatus.2\r\n",
            "clouderizer_init.sh  install_clouderizer_service.sh  updatestatus.3\r\n",
            "clouderizer.jar      temp.sh                         updatestatus.4\r\n",
            "clouderizer.service  updatestatus                    updatestatus.5\r\n",
            "\u001b[01;34mdatalab\u001b[0m/             updatestatus.1                  updatestatus.6\r\n"
          ],
          "name": "stdout"
        }
      ]
    },
    {
      "metadata": {
        "id": "LFBy5EcyRuTC",
        "colab_type": "code",
        "colab": {}
      },
      "cell_type": "code",
      "source": [
        "!7z x DLBeginner.zip  -o/content/clouderizer/fast.ai/data/"
      ],
      "execution_count": 0,
      "outputs": []
    },
    {
      "metadata": {
        "id": "d9uVtqBH6buN",
        "colab_type": "code",
        "outputId": "95b31cc4-ab51-449e-b03a-fe4e8153bbd8",
        "colab": {
          "base_uri": "https://localhost:8080/",
          "height": 34
        }
      },
      "cell_type": "code",
      "source": [
        "ls{'/content/clouderizer/fast.ai/data/\"DL# Beginner\"/'}"
      ],
      "execution_count": 0,
      "outputs": [
        {
          "output_type": "stream",
          "text": [
            "meta-data.zip  test.zip  train.zip\r\n"
          ],
          "name": "stdout"
        }
      ]
    },
    {
      "metadata": {
        "id": "zj866dOOdkV4",
        "colab_type": "code",
        "colab": {}
      },
      "cell_type": "code",
      "source": [
        "rm -r /content/DLBeginner.zip"
      ],
      "execution_count": 0,
      "outputs": []
    },
    {
      "metadata": {
        "id": "3yooeypnQkc6",
        "colab_type": "code",
        "colab": {}
      },
      "cell_type": "code",
      "source": [
        "!7z x /content/clouderizer/fast.ai/data/\"DL# Beginner\"/train.zip -o/content/clouderizer/fast.ai/data/"
      ],
      "execution_count": 0,
      "outputs": []
    },
    {
      "metadata": {
        "id": "haRmD7iVSBIT",
        "colab_type": "code",
        "colab": {}
      },
      "cell_type": "code",
      "source": [
        "!7z x /content/clouderizer/fast.ai/data/\"DL# Beginner\"/test.zip -o/content/clouderizer/fast.ai/data/"
      ],
      "execution_count": 0,
      "outputs": []
    },
    {
      "metadata": {
        "id": "YixWMyYeSGAK",
        "colab_type": "code",
        "colab": {}
      },
      "cell_type": "code",
      "source": [
        "!7z x /content/clouderizer/fast.ai/data/\"DL# Beginner\"/meta-data.zip -o/content/clouderizer/fast.ai/data/"
      ],
      "execution_count": 0,
      "outputs": []
    },
    {
      "metadata": {
        "id": "PwJI_pelR6YO",
        "colab_type": "code",
        "outputId": "4716bb3b-dc2c-4c06-9860-f6aac2cdf456",
        "colab": {
          "base_uri": "https://localhost:8080/",
          "height": 34
        }
      },
      "cell_type": "code",
      "source": [
        "ls{'/content/clouderizer/fast.ai/data/'}"
      ],
      "execution_count": 0,
      "outputs": [
        {
          "output_type": "stream",
          "text": [
            "\u001b[0m\u001b[01;34mDL# Beginner\u001b[0m/  dogscats.zip  \u001b[01;34mmeta-data\u001b[0m/  \u001b[01;34mtest\u001b[0m/  \u001b[01;34mtrain\u001b[0m/\r\n"
          ],
          "name": "stdout"
        }
      ]
    },
    {
      "metadata": {
        "id": "ELqVh-YYSmn2",
        "colab_type": "code",
        "colab": {}
      },
      "cell_type": "code",
      "source": [
        "!cp /content/clouderizer/fast.ai/data/meta-data/sample_submission.csv /content/clouderizer/fast.ai/data/\n",
        "!cp /content/clouderizer/fast.ai/data/meta-data/test.csv /content/clouderizer/fast.ai/data/\n",
        "!cp /content/clouderizer/fast.ai/data/meta-data/train.csv /content/clouderizer/fast.ai/data/\n"
      ],
      "execution_count": 0,
      "outputs": []
    },
    {
      "metadata": {
        "id": "mrOxO-huTC6_",
        "colab_type": "code",
        "colab": {}
      },
      "cell_type": "code",
      "source": [
        "!rm -r /content/clouderizer/fast.ai/data/\"DL# Beginner\"/\n",
        "!rm -r /content/clouderizer/fast.ai/data/meta-data/"
      ],
      "execution_count": 0,
      "outputs": []
    },
    {
      "metadata": {
        "id": "29u7EGRbTHje",
        "colab_type": "code",
        "outputId": "582caff5-6207-4951-d428-deb66487664b",
        "colab": {
          "base_uri": "https://localhost:8080/",
          "height": 34
        }
      },
      "cell_type": "code",
      "source": [
        "ls{'/content/clouderizer/fast.ai/data/'}"
      ],
      "execution_count": 0,
      "outputs": [
        {
          "output_type": "stream",
          "text": [
            "dogscats.zip  sample_submission.csv  \u001b[0m\u001b[01;34mtest\u001b[0m/  test.csv  \u001b[01;34mtrain\u001b[0m/  train.csv\r\n"
          ],
          "name": "stdout"
        }
      ]
    },
    {
      "metadata": {
        "id": "Xpo8v15vfv3p",
        "colab_type": "code",
        "outputId": "b7c336e0-2383-4ead-c63e-b698568f4d9c",
        "colab": {
          "base_uri": "https://localhost:8080/",
          "height": 34
        }
      },
      "cell_type": "code",
      "source": [
        "!rm -r /content/clouderizer/fast.ai/data/dogscats.zip\n",
        "!rm -r /content/clouderizer/fast.ai/data/dogscats"
      ],
      "execution_count": 0,
      "outputs": [
        {
          "output_type": "stream",
          "text": [
            "rm: cannot remove '/content/clouderizer/fast.ai/data/dogscats': No such file or directory\r\n"
          ],
          "name": "stdout"
        }
      ]
    },
    {
      "metadata": {
        "id": "DG9F6-1IJP8u",
        "colab_type": "code",
        "outputId": "21c049ad-56c9-4123-a9a8-9f583f75ecda",
        "colab": {
          "base_uri": "https://localhost:8080/",
          "height": 34
        }
      },
      "cell_type": "code",
      "source": [
        "ls{'/content/clouderizer/fast.ai/data/'}"
      ],
      "execution_count": 0,
      "outputs": [
        {
          "output_type": "stream",
          "text": [
            "sample_submission.csv  \u001b[0m\u001b[01;34mtest\u001b[0m/  test.csv  \u001b[01;34mtrain\u001b[0m/  train.csv\r\n"
          ],
          "name": "stdout"
        }
      ]
    },
    {
      "metadata": {
        "id": "ZxUvWWxzx1dm",
        "colab_type": "text"
      },
      "cell_type": "markdown",
      "source": [
        "# Problems & Fix"
      ]
    },
    {
      "metadata": {
        "id": "vSZ858IC0h6e",
        "colab_type": "text"
      },
      "cell_type": "markdown",
      "source": [
        "## Weights\n",
        "\n",
        "*   Cannot find  resnext_101_64x4d.pth\n",
        "\n",
        "\n"
      ]
    },
    {
      "metadata": {
        "id": "d2q0YKI404rc",
        "colab_type": "code",
        "outputId": "1c4fa158-df40-45ab-810a-0295c5362589",
        "colab": {
          "base_uri": "https://localhost:8080/",
          "height": 34
        }
      },
      "cell_type": "code",
      "source": [
        "!ls {\"/usr/local/lib/python3.6/dist-packages/fastai/weights/\"}"
      ],
      "execution_count": 0,
      "outputs": [
        {
          "output_type": "stream",
          "text": [
            "resnext_101_64x4d.pth\r\n"
          ],
          "name": "stdout"
        }
      ]
    },
    {
      "metadata": {
        "id": "idq2Q9LC38OQ",
        "colab_type": "code",
        "outputId": "3f292cfe-8eff-4e71-edd1-13a000cde497",
        "colab": {
          "base_uri": "https://localhost:8080/",
          "height": 68
        }
      },
      "cell_type": "code",
      "source": [
        "!ls {\"/content/clouderizer/fast.ai/fastai/courses/dl1/fastai/weights\"}"
      ],
      "execution_count": 0,
      "outputs": [
        {
          "output_type": "stream",
          "text": [
            "inceptionresnetv2-d579a627.pth\tresnext_101_64x4d-Copy1.py  wrn_50_2f.pth\r\n",
            "inceptionv4-97ef9c30.pth\tresnext_101_64x4d.pth\r\n",
            "resnext_101_32x4d.pth\t\tresnext_50_32x4d.pth\r\n"
          ],
          "name": "stdout"
        }
      ]
    },
    {
      "metadata": {
        "id": "9LoaTXTs1F3M",
        "colab_type": "code",
        "colab": {}
      },
      "cell_type": "code",
      "source": [
        "!mkdir -p /usr/local/lib/python3.6/dist-packages/fastai/weights/\n",
        "#!( cd /content/clouderizer/fast.ai/fastai/courses/dl1/fastai/weights && tar cf - . ) | (cd /usr/local/lib/python3.6/dist-packages/fastai/weights/ && tar xvpf - )\n",
        "! cp /content/clouderizer/fast.ai/fastai/courses/dl1/fastai/weights/resnext_101_64x4d.pth  /usr/local/lib/python3.6/dist-packages/fastai/weights"
      ],
      "execution_count": 0,
      "outputs": []
    },
    {
      "metadata": {
        "id": "V4C3q-KbqJuU",
        "colab_type": "code",
        "colab": {}
      },
      "cell_type": "code",
      "source": [
        "#!mkdir -p /content/clouderizer/fast.ai/fastai/courses/dl1/fastai/weights/"
      ],
      "execution_count": 0,
      "outputs": []
    },
    {
      "metadata": {
        "id": "5_EDbUxV4cuW",
        "colab_type": "code",
        "outputId": "79623206-96ce-4420-88c0-b92670d5dbeb",
        "colab": {
          "base_uri": "https://localhost:8080/",
          "height": 765
        }
      },
      "cell_type": "code",
      "source": [
        "!wget http://files.fast.ai/models/weights.tgz -d\n",
        "!tar -xf /content/weights.tgz "
      ],
      "execution_count": 0,
      "outputs": [
        {
          "output_type": "stream",
          "text": [
            "DEBUG output created by Wget 1.19.1 on linux-gnu.\r\n",
            "\r\n",
            "Reading HSTS entries from /content/.wget-hsts\r\n",
            "URI encoding = ‘UTF-8’\r\n",
            "Converted file name 'weights.tgz' (UTF-8) -> 'weights.tgz' (UTF-8)\r\n",
            "--2018-06-20 08:28:32--  http://files.fast.ai/models/weights.tgz\r\n",
            "Resolving files.fast.ai (files.fast.ai)... 67.205.15.147\r\n",
            "Caching files.fast.ai => 67.205.15.147\n",
            "Connecting to files.fast.ai (files.fast.ai)|67.205.15.147|:80... connected.\n",
            "Created socket 3.\n",
            "Releasing 0x0000558626764380 (new refcount 1).\n",
            "\n",
            "---request begin---\n",
            "GET /models/weights.tgz HTTP/1.1\n",
            "User-Agent: Wget/1.19.1 (linux-gnu)\n",
            "Accept: */*\n",
            "Accept-Encoding: identity\n",
            "Host: files.fast.ai\n",
            "Connection: Keep-Alive\n",
            "\n",
            "---request end---\n",
            "HTTP request sent, awaiting response... \n",
            "---response begin---\n",
            "HTTP/1.1 200 OK\n",
            "Date: Wed, 20 Jun 2018 08:28:32 GMT\n",
            "Server: Apache\n",
            "Last-Modified: Sat, 04 Nov 2017 13:04:50 GMT\n",
            "ETag: \"47408776-55d27ddd9cac6\"\n",
            "Accept-Ranges: bytes\n",
            "Content-Length: 1195411318\n",
            "Keep-Alive: timeout=2, max=100\n",
            "Connection: Keep-Alive\n",
            "Content-Type: text/plain\n",
            "\n",
            "---response end---\n",
            "200 OK\n",
            "Registered socket 3 for persistent reuse.\n",
            "Length: 1195411318 (1.1G) [text/plain]\n",
            "Saving to: ‘weights.tgz’\n",
            "\n",
            "weights.tgz          59%[==========>         ] 672.67M  43.0MB/s    eta 12s    "
          ],
          "name": "stdout"
        },
        {
          "output_type": "stream",
          "text": [
            "weights.tgz         100%[===================>]   1.11G  43.0MB/s    in 27s     \n",
            "\n",
            "2018-06-20 08:28:59 (42.3 MB/s) - ‘weights.tgz’ saved [1195411318/1195411318]\n",
            "\n"
          ],
          "name": "stdout"
        }
      ]
    },
    {
      "metadata": {
        "id": "3vMFY0mBsgw4",
        "colab_type": "code",
        "colab": {}
      },
      "cell_type": "code",
      "source": [
        "mv /content/weights/resnext_101_64x4d.pth  /usr/local/lib/python3.6/dist-packages/fastai/weights/"
      ],
      "execution_count": 0,
      "outputs": []
    },
    {
      "metadata": {
        "id": "hdlzGUTqsngE",
        "colab_type": "code",
        "outputId": "e8f984d4-f63e-4a5e-aa78-8f8262c5cee6",
        "colab": {
          "base_uri": "https://localhost:8080/",
          "height": 34
        }
      },
      "cell_type": "code",
      "source": [
        "!ls {\"/usr/local/lib/python3.6/dist-packages/fastai/weights/\"}"
      ],
      "execution_count": 0,
      "outputs": [
        {
          "output_type": "stream",
          "text": [
            "resnext_101_64x4d.pth\r\n"
          ],
          "name": "stdout"
        }
      ]
    },
    {
      "metadata": {
        "id": "1R8tl600x-e8",
        "colab_type": "text"
      },
      "cell_type": "markdown",
      "source": [
        "## TTA\n",
        "\n",
        "*   AttributeError: ‘bool’ object has no attribute ‘mean’\" error in lesson1 Dogbreed example"
      ]
    },
    {
      "metadata": {
        "id": "Jx6iJbAPx0mw",
        "colab_type": "code",
        "outputId": "58a5287c-b4e4-4d6c-c9cc-5fc8c606d9ef",
        "colab": {
          "base_uri": "https://localhost:8080/",
          "height": 394
        }
      },
      "cell_type": "code",
      "source": [
        "!rm -r /usr/local/lib/python3.6/dist-packages/fastai/metrics.py\n",
        "#!ls {\"/usr/local/lib/python3.6/dist-packages/fastai/\"}\n",
        "!wget https://github.com/fastai/fastai/blob/f94fe9b08da60cf76b805ce9926a87b91b5eae24/fastai/metrics.py\n",
        "#!ls {\"/content/\"}\n",
        "!mv /content/metrics.py  /usr/local/lib/python3.6/dist-packages/fastai/\n",
        "!ls {\"/usr/local/lib/python3.6/dist-packages/fastai/\"}"
      ],
      "execution_count": 0,
      "outputs": [
        {
          "output_type": "stream",
          "text": [
            "--2018-06-08 16:05:06--  https://github.com/fastai/fastai/blob/f94fe9b08da60cf76b805ce9926a87b91b5eae24/fastai/metrics.py\n",
            "Resolving github.com (github.com)... 192.30.253.112, 192.30.253.113\n",
            "Connecting to github.com (github.com)|192.30.253.112|:443... connected.\n",
            "HTTP request sent, awaiting response... 200 OK\n",
            "Length: unspecified [text/html]\n",
            "Saving to: ‘metrics.py’\n",
            "\n",
            "metrics.py              [ <=>                ]  51.18K   314KB/s    in 0.2s    \n",
            "\n",
            "2018-06-08 16:05:07 (314 KB/s) - ‘metrics.py’ saved [52409]\n",
            "\n",
            "adaptive_softmax.py  initializers.py\t  metrics.py\tsgdr.py\n",
            "column_data.py\t     __init__.py\t  model.py\tstructured.py\n",
            "conv_learner.py      io.py\t\t  models\tswa.py\n",
            "core.py\t\t     layer_optimizer.py   nlp.py\ttext.py\n",
            "dataloader.py\t     layers.py\t\t  plots.py\ttorch_imports.py\n",
            "dataset.py\t     learner.py\t\t  __pycache__\ttransforms_pil.py\n",
            "executors.py\t     lm_rnn.py\t\t  rnn_reg.py\ttransforms.py\n",
            "fp16.py\t\t     losses.py\t\t  rnn_train.py\tutils.py\n",
            "imports.py\t     lsuv_initializer.py  set_spawn.py\tweights\n"
          ],
          "name": "stdout"
        }
      ]
    },
    {
      "metadata": {
        "id": "5OrQwfgfxbYw",
        "colab_type": "text"
      },
      "cell_type": "markdown",
      "source": [
        "# CODE"
      ]
    },
    {
      "metadata": {
        "id": "bAxPFHOGU9ZG",
        "colab_type": "text"
      },
      "cell_type": "markdown",
      "source": [
        "##Pre Training"
      ]
    },
    {
      "metadata": {
        "id": "5QmH83QDc_e8",
        "colab_type": "code",
        "colab": {}
      },
      "cell_type": "code",
      "source": [
        "# Put these at the top of every notebook, to get automatic reloading and inline plotting\n",
        "%reload_ext autoreload\n",
        "%autoreload 2\n",
        "%matplotlib inline"
      ],
      "execution_count": 0,
      "outputs": []
    },
    {
      "metadata": {
        "id": "pvcjwrBqc_fG",
        "colab_type": "code",
        "colab": {}
      },
      "cell_type": "code",
      "source": [
        "\n",
        "from fastai.imports import *\n",
        "from fastai.transforms import *\n",
        "from fastai.conv_learner import *\n",
        "from fastai.model import *\n",
        "from fastai.dataset import *\n",
        "from fastai.sgdr import *\n",
        "from fastai.plots import *"
      ],
      "execution_count": 0,
      "outputs": []
    },
    {
      "metadata": {
        "id": "4Y89GZRhc_fQ",
        "colab_type": "code",
        "outputId": "20cb0201-506e-4cb5-815e-fee22065fb8e",
        "colab": {
          "base_uri": "https://localhost:8080/",
          "height": 34
        }
      },
      "cell_type": "code",
      "source": [
        "torch.cuda.is_available()"
      ],
      "execution_count": 0,
      "outputs": [
        {
          "output_type": "execute_result",
          "data": {
            "text/plain": [
              "True"
            ]
          },
          "metadata": {
            "tags": []
          },
          "execution_count": 3
        }
      ]
    },
    {
      "metadata": {
        "id": "qm0BvUEHc_fk",
        "colab_type": "code",
        "outputId": "8a9d2a9c-d63c-4037-95e8-c23398aa2418",
        "colab": {
          "base_uri": "https://localhost:8080/",
          "height": 34
        }
      },
      "cell_type": "code",
      "source": [
        "torch.backends.cudnn.enabled"
      ],
      "execution_count": 0,
      "outputs": [
        {
          "output_type": "execute_result",
          "data": {
            "text/plain": [
              "True"
            ]
          },
          "metadata": {
            "tags": []
          },
          "execution_count": 4
        }
      ]
    },
    {
      "metadata": {
        "id": "BfHQYdSbISkA",
        "colab_type": "code",
        "colab": {}
      },
      "cell_type": "code",
      "source": [
        "PATH = \"/content/clouderizer/fast.ai/data/\"\n",
        "arch = resnext101_64"
      ],
      "execution_count": 0,
      "outputs": []
    },
    {
      "metadata": {
        "id": "E6I24tKWc_f-",
        "colab_type": "code",
        "colab": {}
      },
      "cell_type": "code",
      "source": [
        "sz=224"
      ],
      "execution_count": 0,
      "outputs": []
    },
    {
      "metadata": {
        "id": "UjKp0FlOV1xE",
        "colab_type": "code",
        "colab": {}
      },
      "cell_type": "code",
      "source": [
        "bs=16 #batch size"
      ],
      "execution_count": 0,
      "outputs": []
    },
    {
      "metadata": {
        "id": "bRw-LFyPmENU",
        "colab_type": "code",
        "outputId": "97793c8b-758f-410a-d974-6d01c0a4ae31",
        "colab": {
          "base_uri": "https://localhost:8080/",
          "height": 34
        }
      },
      "cell_type": "code",
      "source": [
        "!ls {\"/content/clouderizer/fast.ai/data/\"}"
      ],
      "execution_count": 0,
      "outputs": [
        {
          "output_type": "stream",
          "text": [
            "sample_submission.csv  test  test.csv  train  train.csv\r\n"
          ],
          "name": "stdout"
        }
      ]
    },
    {
      "metadata": {
        "id": "MpdcaVI5j6YF",
        "colab_type": "code",
        "colab": {}
      },
      "cell_type": "code",
      "source": [
        "#!rm -r /content/clouderizer/fast.ai/data/tmp"
      ],
      "execution_count": 0,
      "outputs": []
    },
    {
      "metadata": {
        "id": "-lj7h5HfyU_-",
        "colab_type": "text"
      },
      "cell_type": "markdown",
      "source": [
        "###Making validation set"
      ]
    },
    {
      "metadata": {
        "id": "2s5KgC_Dc_gE",
        "colab_type": "code",
        "colab": {}
      },
      "cell_type": "code",
      "source": [
        "label_csv = f'{PATH}train.csv'\n",
        "n = len(list(open(label_csv)))-1 #number of trainig examples = # labels"
      ],
      "execution_count": 0,
      "outputs": []
    },
    {
      "metadata": {
        "id": "HJfCUDInXSSb",
        "colab_type": "code",
        "colab": {}
      },
      "cell_type": "code",
      "source": [
        "val_idxs = get_cv_idxs(n , val_pct=1e-4)"
      ],
      "execution_count": 0,
      "outputs": []
    },
    {
      "metadata": {
        "id": "4YhtHbCdc_gQ",
        "colab_type": "code",
        "outputId": "d98332ef-0385-47b9-8110-bbe3786df4f2",
        "colab": {
          "base_uri": "https://localhost:8080/",
          "height": 34
        }
      },
      "cell_type": "code",
      "source": [
        "n"
      ],
      "execution_count": 0,
      "outputs": [
        {
          "output_type": "execute_result",
          "data": {
            "text/plain": [
              "13000"
            ]
          },
          "metadata": {
            "tags": []
          },
          "execution_count": 12
        }
      ]
    },
    {
      "metadata": {
        "id": "EaHTA9AHc_gw",
        "colab_type": "code",
        "outputId": "efec3a56-3a1e-44fc-c49c-7e9f2ddc3a0a",
        "colab": {
          "base_uri": "https://localhost:8080/",
          "height": 34
        }
      },
      "cell_type": "code",
      "source": [
        "len(val_idxs)"
      ],
      "execution_count": 0,
      "outputs": [
        {
          "output_type": "execute_result",
          "data": {
            "text/plain": [
              "1"
            ]
          },
          "metadata": {
            "tags": []
          },
          "execution_count": 13
        }
      ]
    },
    {
      "metadata": {
        "id": "y1aEH43wc_hO",
        "colab_type": "code",
        "outputId": "6886567e-2bdd-474b-8ed0-87bfce2c3fcb",
        "colab": {
          "base_uri": "https://localhost:8080/",
          "height": 34
        }
      },
      "cell_type": "code",
      "source": [
        "val_idxs"
      ],
      "execution_count": 0,
      "outputs": [
        {
          "output_type": "execute_result",
          "data": {
            "text/plain": [
              "array([3615])"
            ]
          },
          "metadata": {
            "tags": []
          },
          "execution_count": 14
        }
      ]
    },
    {
      "metadata": {
        "id": "20-bDejgz7YM",
        "colab_type": "text"
      },
      "cell_type": "markdown",
      "source": [
        "## Looking to the data "
      ]
    },
    {
      "metadata": {
        "id": "FCr9tD7Dc_hc",
        "colab_type": "code",
        "outputId": "d7e42783-8715-4b81-94ad-7c8a536a7440",
        "colab": {
          "base_uri": "https://localhost:8080/",
          "height": 204
        }
      },
      "cell_type": "code",
      "source": [
        "label_df = pd.read_csv(label_csv)\n",
        "label_df.head()"
      ],
      "execution_count": 0,
      "outputs": [
        {
          "output_type": "execute_result",
          "data": {
            "text/html": [
              "<div>\n",
              "<style scoped>\n",
              "    .dataframe tbody tr th:only-of-type {\n",
              "        vertical-align: middle;\n",
              "    }\n",
              "\n",
              "    .dataframe tbody tr th {\n",
              "        vertical-align: top;\n",
              "    }\n",
              "\n",
              "    .dataframe thead th {\n",
              "        text-align: right;\n",
              "    }\n",
              "</style>\n",
              "<table border=\"1\" class=\"dataframe\">\n",
              "  <thead>\n",
              "    <tr style=\"text-align: right;\">\n",
              "      <th></th>\n",
              "      <th>Image_id</th>\n",
              "      <th>Animal</th>\n",
              "    </tr>\n",
              "  </thead>\n",
              "  <tbody>\n",
              "    <tr>\n",
              "      <th>0</th>\n",
              "      <td>Img-1.jpg</td>\n",
              "      <td>hippopotamus</td>\n",
              "    </tr>\n",
              "    <tr>\n",
              "      <th>1</th>\n",
              "      <td>Img-2.jpg</td>\n",
              "      <td>squirrel</td>\n",
              "    </tr>\n",
              "    <tr>\n",
              "      <th>2</th>\n",
              "      <td>Img-3.jpg</td>\n",
              "      <td>grizzly+bear</td>\n",
              "    </tr>\n",
              "    <tr>\n",
              "      <th>3</th>\n",
              "      <td>Img-4.jpg</td>\n",
              "      <td>ox</td>\n",
              "    </tr>\n",
              "    <tr>\n",
              "      <th>4</th>\n",
              "      <td>Img-5.jpg</td>\n",
              "      <td>german+shepherd</td>\n",
              "    </tr>\n",
              "  </tbody>\n",
              "</table>\n",
              "</div>"
            ],
            "text/plain": [
              "    Image_id           Animal\n",
              "0  Img-1.jpg     hippopotamus\n",
              "1  Img-2.jpg         squirrel\n",
              "2  Img-3.jpg     grizzly+bear\n",
              "3  Img-4.jpg               ox\n",
              "4  Img-5.jpg  german+shepherd"
            ]
          },
          "metadata": {
            "tags": []
          },
          "execution_count": 87
        }
      ]
    },
    {
      "metadata": {
        "id": "BLLJMR3Kc_hy",
        "colab_type": "code",
        "outputId": "204ca88b-cd8b-4b2e-8c33-bc2ce7359b66",
        "colab": {
          "base_uri": "https://localhost:8080/",
          "height": 1010
        }
      },
      "cell_type": "code",
      "source": [
        "label_df.pivot_table(index='Animal', aggfunc=len).sort_values('Image_id', ascending=False) #group it up"
      ],
      "execution_count": 0,
      "outputs": [
        {
          "output_type": "execute_result",
          "data": {
            "text/html": [
              "<div>\n",
              "<style scoped>\n",
              "    .dataframe tbody tr th:only-of-type {\n",
              "        vertical-align: middle;\n",
              "    }\n",
              "\n",
              "    .dataframe tbody tr th {\n",
              "        vertical-align: top;\n",
              "    }\n",
              "\n",
              "    .dataframe thead th {\n",
              "        text-align: right;\n",
              "    }\n",
              "</style>\n",
              "<table border=\"1\" class=\"dataframe\">\n",
              "  <thead>\n",
              "    <tr style=\"text-align: right;\">\n",
              "      <th></th>\n",
              "      <th>Image_id</th>\n",
              "    </tr>\n",
              "    <tr>\n",
              "      <th>Animal</th>\n",
              "      <th></th>\n",
              "    </tr>\n",
              "  </thead>\n",
              "  <tbody>\n",
              "    <tr>\n",
              "      <th>antelope</th>\n",
              "      <td>695</td>\n",
              "    </tr>\n",
              "    <tr>\n",
              "      <th>bat</th>\n",
              "      <td>256</td>\n",
              "    </tr>\n",
              "    <tr>\n",
              "      <th>beaver</th>\n",
              "      <td>133</td>\n",
              "    </tr>\n",
              "    <tr>\n",
              "      <th>bobcat</th>\n",
              "      <td>418</td>\n",
              "    </tr>\n",
              "    <tr>\n",
              "      <th>buffalo</th>\n",
              "      <td>606</td>\n",
              "    </tr>\n",
              "    <tr>\n",
              "      <th>chihuahua</th>\n",
              "      <td>386</td>\n",
              "    </tr>\n",
              "    <tr>\n",
              "      <th>chimpanzee</th>\n",
              "      <td>477</td>\n",
              "    </tr>\n",
              "    <tr>\n",
              "      <th>collie</th>\n",
              "      <td>680</td>\n",
              "    </tr>\n",
              "    <tr>\n",
              "      <th>dalmatian</th>\n",
              "      <td>359</td>\n",
              "    </tr>\n",
              "    <tr>\n",
              "      <th>german+shepherd</th>\n",
              "      <td>687</td>\n",
              "    </tr>\n",
              "    <tr>\n",
              "      <th>grizzly+bear</th>\n",
              "      <td>583</td>\n",
              "    </tr>\n",
              "    <tr>\n",
              "      <th>hippopotamus</th>\n",
              "      <td>464</td>\n",
              "    </tr>\n",
              "    <tr>\n",
              "      <th>horse</th>\n",
              "      <td>1111</td>\n",
              "    </tr>\n",
              "    <tr>\n",
              "      <th>killer+whale</th>\n",
              "      <td>193</td>\n",
              "    </tr>\n",
              "    <tr>\n",
              "      <th>mole</th>\n",
              "      <td>60</td>\n",
              "    </tr>\n",
              "    <tr>\n",
              "      <th>moose</th>\n",
              "      <td>476</td>\n",
              "    </tr>\n",
              "    <tr>\n",
              "      <th>mouse</th>\n",
              "      <td>124</td>\n",
              "    </tr>\n",
              "    <tr>\n",
              "      <th>otter</th>\n",
              "      <td>519</td>\n",
              "    </tr>\n",
              "    <tr>\n",
              "      <th>ox</th>\n",
              "      <td>501</td>\n",
              "    </tr>\n",
              "    <tr>\n",
              "      <th>persian+cat</th>\n",
              "      <td>491</td>\n",
              "    </tr>\n",
              "    <tr>\n",
              "      <th>raccoon</th>\n",
              "      <td>346</td>\n",
              "    </tr>\n",
              "    <tr>\n",
              "      <th>rat</th>\n",
              "      <td>220</td>\n",
              "    </tr>\n",
              "    <tr>\n",
              "      <th>rhinoceros</th>\n",
              "      <td>477</td>\n",
              "    </tr>\n",
              "    <tr>\n",
              "      <th>seal</th>\n",
              "      <td>665</td>\n",
              "    </tr>\n",
              "    <tr>\n",
              "      <th>siamese+cat</th>\n",
              "      <td>341</td>\n",
              "    </tr>\n",
              "    <tr>\n",
              "      <th>spider+monkey</th>\n",
              "      <td>189</td>\n",
              "    </tr>\n",
              "    <tr>\n",
              "      <th>squirrel</th>\n",
              "      <td>808</td>\n",
              "    </tr>\n",
              "    <tr>\n",
              "      <th>walrus</th>\n",
              "      <td>148</td>\n",
              "    </tr>\n",
              "    <tr>\n",
              "      <th>weasel</th>\n",
              "      <td>184</td>\n",
              "    </tr>\n",
              "    <tr>\n",
              "      <th>wolf</th>\n",
              "      <td>403</td>\n",
              "    </tr>\n",
              "  </tbody>\n",
              "</table>\n",
              "</div>"
            ],
            "text/plain": [
              "                 Image_id\n",
              "Animal                   \n",
              "antelope              695\n",
              "bat                   256\n",
              "beaver                133\n",
              "bobcat                418\n",
              "buffalo               606\n",
              "chihuahua             386\n",
              "chimpanzee            477\n",
              "collie                680\n",
              "dalmatian             359\n",
              "german+shepherd       687\n",
              "grizzly+bear          583\n",
              "hippopotamus          464\n",
              "horse                1111\n",
              "killer+whale          193\n",
              "mole                   60\n",
              "moose                 476\n",
              "mouse                 124\n",
              "otter                 519\n",
              "ox                    501\n",
              "persian+cat           491\n",
              "raccoon               346\n",
              "rat                   220\n",
              "rhinoceros            477\n",
              "seal                  665\n",
              "siamese+cat           341\n",
              "spider+monkey         189\n",
              "squirrel              808\n",
              "walrus                148\n",
              "weasel                184\n",
              "wolf                  403"
            ]
          },
          "metadata": {
            "tags": []
          },
          "execution_count": 124
        }
      ]
    },
    {
      "metadata": {
        "id": "x6vRad8vc_iA",
        "colab_type": "code",
        "colab": {}
      },
      "cell_type": "code",
      "source": [
        "tfms = tfms_from_model(arch, sz, aug_tfms=transforms_side_on, \n",
        "                       max_zoom=1.1)\n",
        "\n",
        "data = ImageClassifierData.from_csv(PATH, 'train', \n",
        "                 f'{PATH}train.csv', test_name='test', \n",
        "                 val_idxs = val_idxs , tfms=tfms, bs=bs)"
      ],
      "execution_count": 0,
      "outputs": []
    },
    {
      "metadata": {
        "id": "qLMOaXaWc_iM",
        "colab_type": "code",
        "outputId": "46d5d568-a2dc-4c84-f255-d88590a3bd2a",
        "colab": {
          "base_uri": "https://localhost:8080/",
          "height": 34
        }
      },
      "cell_type": "code",
      "source": [
        "#You can access to training dataset by saying data.trn_ds and trn_ds contains a lot of things including file names (fnames)\n",
        "fn = PATH + data.trn_ds.fnames[1]; fn "
      ],
      "execution_count": 0,
      "outputs": [
        {
          "output_type": "execute_result",
          "data": {
            "text/plain": [
              "'/content/clouderizer/fast.ai/data/train/Img-3.jpg'"
            ]
          },
          "metadata": {
            "tags": []
          },
          "execution_count": 17
        }
      ]
    },
    {
      "metadata": {
        "id": "3NGbAfE2c_iS",
        "colab_type": "code",
        "colab": {}
      },
      "cell_type": "code",
      "source": [
        "img = PIL.Image.open('fn'); img"
      ],
      "execution_count": 0,
      "outputs": []
    },
    {
      "metadata": {
        "id": "j1qsgL10c_ia",
        "colab_type": "code",
        "outputId": "b09f0c51-1c9e-4dbf-cc72-9cb5a435650a",
        "colab": {
          "base_uri": "https://localhost:8080/",
          "height": 34
        }
      },
      "cell_type": "code",
      "source": [
        "img.size"
      ],
      "execution_count": 0,
      "outputs": [
        {
          "output_type": "execute_result",
          "data": {
            "text/plain": [
              "(1024, 683)"
            ]
          },
          "metadata": {
            "tags": []
          },
          "execution_count": 19
        }
      ]
    },
    {
      "metadata": {
        "id": "TQTPjt0chHTE",
        "colab_type": "text"
      },
      "cell_type": "markdown",
      "source": [
        "### to know all sizes am dealing with"
      ]
    },
    {
      "metadata": {
        "id": "-UX4RgbKc_iu",
        "colab_type": "code",
        "colab": {}
      },
      "cell_type": "code",
      "source": [
        "size_d = {k: PIL.Image.open(PATH+k).size for k in data.trn_ds.fnames} # match name to size "
      ],
      "execution_count": 0,
      "outputs": []
    },
    {
      "metadata": {
        "id": "Kw2hPA6Tc_i-",
        "colab_type": "code",
        "colab": {}
      },
      "cell_type": "code",
      "source": [
        "row_sz, col_sz = list(zip(*size_d.values()))"
      ],
      "execution_count": 0,
      "outputs": []
    },
    {
      "metadata": {
        "id": "u4fty6ylc_jG",
        "colab_type": "code",
        "colab": {}
      },
      "cell_type": "code",
      "source": [
        "row_sz = np.array(row_sz);  col_sz = np.array(col_sz); "
      ],
      "execution_count": 0,
      "outputs": []
    },
    {
      "metadata": {
        "id": "lOs_hRzMc_jM",
        "colab_type": "code",
        "outputId": "e562d030-4bcf-4216-d902-f9988e2b0ed9",
        "colab": {
          "base_uri": "https://localhost:8080/",
          "height": 34
        }
      },
      "cell_type": "code",
      "source": [
        "row_sz[:15]"
      ],
      "execution_count": 0,
      "outputs": [
        {
          "output_type": "execute_result",
          "data": {
            "text/plain": [
              "array([1024, 1024,  332, 1024, 1024,  640,  333, 1024, 1024, 1024, 1024, 1024,  500, 1024, 1024])"
            ]
          },
          "metadata": {
            "tags": []
          },
          "execution_count": 23
        }
      ]
    },
    {
      "metadata": {
        "id": "I-k8-ohVc_jS",
        "colab_type": "code",
        "outputId": "763a9980-149e-4b64-ef24-f4de2f7c2528",
        "colab": {
          "base_uri": "https://localhost:8080/",
          "height": 34
        }
      },
      "cell_type": "code",
      "source": [
        "col_sz[:15]"
      ],
      "execution_count": 0,
      "outputs": [
        {
          "output_type": "execute_result",
          "data": {
            "text/plain": [
              "array([771, 683, 500, 768, 683, 426, 500, 681, 683, 768, 678, 683, 375, 683, 730])"
            ]
          },
          "metadata": {
            "tags": []
          },
          "execution_count": 24
        }
      ]
    },
    {
      "metadata": {
        "id": "IiPw64R4c_jY",
        "colab_type": "code",
        "colab": {}
      },
      "cell_type": "code",
      "source": [
        "plt.hist(row_sz);"
      ],
      "execution_count": 0,
      "outputs": []
    },
    {
      "metadata": {
        "id": "bUzCl5eoc_je",
        "colab_type": "code",
        "colab": {}
      },
      "cell_type": "code",
      "source": [
        "plt.hist(col_sz);"
      ],
      "execution_count": 0,
      "outputs": []
    },
    {
      "metadata": {
        "id": "ZWe-CDA8c_ji",
        "colab_type": "code",
        "colab": {}
      },
      "cell_type": "code",
      "source": [
        "plt.hist(row_sz[row_sz<1000])"
      ],
      "execution_count": 0,
      "outputs": []
    },
    {
      "metadata": {
        "id": "WHOZHGOq0GtW",
        "colab_type": "text"
      },
      "cell_type": "markdown",
      "source": [
        "## Training"
      ]
    },
    {
      "metadata": {
        "id": "Ul0pcMQuc_jm",
        "colab_type": "code",
        "colab": {}
      },
      "cell_type": "code",
      "source": [
        "def get_data(sz, bs):\n",
        "    tfms = tfms_from_model(arch, sz, aug_tfms=transforms_side_on,\n",
        "                           max_zoom=1.1)\n",
        "    data = ImageClassifierData.from_csv(PATH, 'train', \n",
        "               f'{PATH}train.csv', test_name='test', num_workers=4,\n",
        "               val_idxs = val_idxs ,tfms=tfms, bs=bs)\n",
        "\n",
        "    return data if sz>300 else data.resize(340, 'tmp')"
      ],
      "execution_count": 0,
      "outputs": []
    },
    {
      "metadata": {
        "id": "cEiLCYCpc_kM",
        "colab_type": "code",
        "outputId": "c550ae9e-ed74-46dd-8533-2b44759d3ced",
        "colab": {
          "base_uri": "https://localhost:8080/",
          "height": 238
        }
      },
      "cell_type": "code",
      "source": [
        "data = get_data(224, 64)\n",
        "\n",
        "learn = ConvLearner.pretrained(arch, data, precompute=True)\n",
        "\n",
        "learn.fit(0.01,4)"
      ],
      "execution_count": 0,
      "outputs": [
        {
          "output_type": "display_data",
          "data": {
            "application/vnd.jupyter.widget-view+json": {
              "model_id": "32cba6fd76194502b704c5e64a3159e7",
              "version_minor": 0,
              "version_major": 2
            },
            "text/plain": [
              "HBox(children=(IntProgress(value=0, max=6), HTML(value='')))"
            ]
          },
          "metadata": {
            "tags": []
          }
        },
        {
          "output_type": "stream",
          "text": [
            "\n",
            "100%|██████████| 204/204 [07:27<00:00,  2.20s/it]\n",
            "100%|██████████| 1/1 [00:00<00:00,  4.95it/s]"
          ],
          "name": "stdout"
        },
        {
          "output_type": "stream",
          "text": [
            "\n",
            "100%|██████████| 94/94 [03:24<00:00,  2.18s/it]\n"
          ],
          "name": "stdout"
        },
        {
          "output_type": "display_data",
          "data": {
            "application/vnd.jupyter.widget-view+json": {
              "model_id": "1cc4aa8196ef46afa251d01c62adfeaa",
              "version_minor": 0,
              "version_major": 2
            },
            "text/plain": [
              "HBox(children=(IntProgress(value=0, description='Epoch', max=4), HTML(value='')))"
            ]
          },
          "metadata": {
            "tags": []
          }
        },
        {
          "output_type": "stream",
          "text": [
            "epoch      trn_loss   val_loss   accuracy   \n",
            "    0      0.313086   0.003255   1.0       \n",
            "    1      0.216928   0.000648   1.0       \n",
            " 96%|█████████▌| 195/204 [00:06<00:00, 28.14it/s, loss=0.183]"
          ],
          "name": "stdout"
        },
        {
          "output_type": "stream",
          "text": [
            "    2      0.180505   0.000462   1.0       \n",
            "    3      0.146408   0.000409   1.0       \n",
            "\n"
          ],
          "name": "stdout"
        },
        {
          "output_type": "execute_result",
          "data": {
            "text/plain": [
              "[array([0.00041]), 1.0]"
            ]
          },
          "metadata": {
            "tags": []
          },
          "execution_count": 16
        }
      ]
    },
    {
      "metadata": {
        "id": "nN4FgKoHqa9c",
        "colab_type": "text"
      },
      "cell_type": "markdown",
      "source": [
        "###choosing learning rate"
      ]
    },
    {
      "metadata": {
        "id": "BZ6Rh-Ns8RYS",
        "colab_type": "code",
        "outputId": "16e58a1f-8a2e-4489-b6b1-a78e676387c4",
        "colab": {
          "base_uri": "https://localhost:8080/",
          "height": 51
        }
      },
      "cell_type": "code",
      "source": [
        "#choosing learning rate\n",
        "lrf=learn.lr_find()"
      ],
      "execution_count": 0,
      "outputs": [
        {
          "output_type": "display_data",
          "data": {
            "application/vnd.jupyter.widget-view+json": {
              "model_id": "f6d90297ebf644c791c0baa3c9f6a459",
              "version_minor": 0,
              "version_major": 2
            },
            "text/plain": [
              "HBox(children=(IntProgress(value=0, description='Epoch', max=1), HTML(value='')))"
            ]
          },
          "metadata": {
            "tags": []
          }
        },
        {
          "output_type": "stream",
          "text": [
            " 66%|██████▌   | 426/650 [00:07<00:03, 57.73it/s, loss=0.23] \n"
          ],
          "name": "stdout"
        }
      ]
    },
    {
      "metadata": {
        "id": "qj0mOAaI8dPd",
        "colab_type": "code",
        "colab": {}
      },
      "cell_type": "code",
      "source": [
        "learn.sched.plot_lr()"
      ],
      "execution_count": 0,
      "outputs": []
    },
    {
      "metadata": {
        "id": "fOZOP8oC8WBV",
        "colab_type": "code",
        "colab": {}
      },
      "cell_type": "code",
      "source": [
        "learn.sched.plot()"
      ],
      "execution_count": 0,
      "outputs": []
    },
    {
      "metadata": {
        "id": "R0NS5jLeqgwx",
        "colab_type": "text"
      },
      "cell_type": "markdown",
      "source": [
        "### Continue Training "
      ]
    },
    {
      "metadata": {
        "id": "8Yrto0ZSmCX0",
        "colab_type": "code",
        "colab": {}
      },
      "cell_type": "code",
      "source": [
        "bs=64 #batch size"
      ],
      "execution_count": 0,
      "outputs": []
    },
    {
      "metadata": {
        "id": "7A8sGufvRW54",
        "colab_type": "code",
        "colab": {}
      },
      "cell_type": "code",
      "source": [
        "learn.precompute = False"
      ],
      "execution_count": 0,
      "outputs": []
    },
    {
      "metadata": {
        "id": "QInZdoMIRZI8",
        "colab_type": "code",
        "outputId": "06571970-d165-4fc0-addb-f1e2eee72bbd",
        "colab": {
          "base_uri": "https://localhost:8080/",
          "height": 119
        }
      },
      "cell_type": "code",
      "source": [
        "learn.fit(1e-2, 2, cycle_len=1)"
      ],
      "execution_count": 0,
      "outputs": [
        {
          "output_type": "display_data",
          "data": {
            "application/vnd.jupyter.widget-view+json": {
              "model_id": "a8e011a0f0404b6f802a7cea5baebea7",
              "version_minor": 0,
              "version_major": 2
            },
            "text/plain": [
              "HBox(children=(IntProgress(value=0, description='Epoch', max=2), HTML(value='')))"
            ]
          },
          "metadata": {
            "tags": []
          }
        },
        {
          "output_type": "stream",
          "text": [
            "epoch      trn_loss   val_loss   accuracy   \n",
            "    0      0.16175    0.000257   1.0       \n",
            "    1      0.149721   9e-05      1.0       \n",
            "\n"
          ],
          "name": "stdout"
        },
        {
          "output_type": "execute_result",
          "data": {
            "text/plain": [
              "[array([0.00009]), 1.0]"
            ]
          },
          "metadata": {
            "tags": []
          },
          "execution_count": 19
        }
      ]
    },
    {
      "metadata": {
        "id": "OkeTophrRc38",
        "colab_type": "code",
        "colab": {}
      },
      "cell_type": "code",
      "source": [
        "learn.save('224_pre')\n",
        "learn.load('224_pre')"
      ],
      "execution_count": 0,
      "outputs": []
    },
    {
      "metadata": {
        "id": "wLkRcU6NRczY",
        "colab_type": "code",
        "colab": {}
      },
      "cell_type": "code",
      "source": [
        "lr = 0.01"
      ],
      "execution_count": 0,
      "outputs": []
    },
    {
      "metadata": {
        "id": "1q2bXEClRcrp",
        "colab_type": "code",
        "colab": {}
      },
      "cell_type": "code",
      "source": [
        "lrs=np.array([1e-4,1e-3,1e-2])"
      ],
      "execution_count": 0,
      "outputs": []
    },
    {
      "metadata": {
        "id": "HwLvwsqZRcnP",
        "colab_type": "code",
        "outputId": "2b57b81e-7c1d-42f3-94ab-b08cb3f4a5a9",
        "colab": {
          "base_uri": "https://localhost:8080/",
          "height": 170
        }
      },
      "cell_type": "code",
      "source": [
        "learn.set_data(get_data(224, 16))\n",
        "learn.unfreeze()\n",
        "learn.fit(lrs, 2, cycle_len=1, cycle_mult=2)"
      ],
      "execution_count": 0,
      "outputs": [
        {
          "output_type": "display_data",
          "data": {
            "application/vnd.jupyter.widget-view+json": {
              "model_id": "140c098074ca4a49aaaa230b0ee2ae84",
              "version_minor": 0,
              "version_major": 2
            },
            "text/plain": [
              "HBox(children=(IntProgress(value=0, max=6), HTML(value='')))"
            ]
          },
          "metadata": {
            "tags": []
          }
        },
        {
          "output_type": "stream",
          "text": [
            "\n"
          ],
          "name": "stdout"
        },
        {
          "output_type": "display_data",
          "data": {
            "application/vnd.jupyter.widget-view+json": {
              "model_id": "389ac3da7b2647efaa60797eff2b5a53",
              "version_minor": 0,
              "version_major": 2
            },
            "text/plain": [
              "HBox(children=(IntProgress(value=0, description='Epoch', max=3), HTML(value='')))"
            ]
          },
          "metadata": {
            "tags": []
          }
        },
        {
          "output_type": "stream",
          "text": [
            "epoch      trn_loss   val_loss   accuracy   \n",
            "    0      0.306817   0.018615   1.0       \n",
            "  0%|          | 2/813 [00:06<45:18,  3.35s/it, loss=0.299]"
          ],
          "name": "stdout"
        },
        {
          "output_type": "stream",
          "text": [
            "    1      0.282475   0.014633   1.0       \n",
            "  1%|          | 6/813 [00:12<27:15,  2.03s/it, loss=0.258]"
          ],
          "name": "stdout"
        },
        {
          "output_type": "stream",
          "text": [
            "    2      0.121539   0.000603   1.0       \n",
            "\n"
          ],
          "name": "stdout"
        },
        {
          "output_type": "execute_result",
          "data": {
            "text/plain": [
              "[array([0.0006]), 1.0]"
            ]
          },
          "metadata": {
            "tags": []
          },
          "execution_count": 23
        }
      ]
    },
    {
      "metadata": {
        "id": "UsXsdVx-RclT",
        "colab_type": "code",
        "colab": {}
      },
      "cell_type": "code",
      "source": [
        "learn.save('224_unf')\n",
        "learn.load('224_unf')"
      ],
      "execution_count": 0,
      "outputs": []
    },
    {
      "metadata": {
        "id": "utAxQJFTRcez",
        "colab_type": "code",
        "outputId": "a913c495-55af-47cc-8127-be92f3f42cad",
        "colab": {
          "base_uri": "https://localhost:8080/",
          "height": 238
        }
      },
      "cell_type": "code",
      "source": [
        "learn.set_data(get_data(299, 64))\n",
        "learn.freeze()\n",
        "learn.fit(lr, 3, cycle_len=1, cycle_mult=2)"
      ],
      "execution_count": 0,
      "outputs": [
        {
          "output_type": "display_data",
          "data": {
            "application/vnd.jupyter.widget-view+json": {
              "model_id": "0b4f590e82454e9c95f9114e1e9703f0",
              "version_minor": 0,
              "version_major": 2
            },
            "text/plain": [
              "HBox(children=(IntProgress(value=0, max=6), HTML(value='')))"
            ]
          },
          "metadata": {
            "tags": []
          }
        },
        {
          "output_type": "stream",
          "text": [
            "\n"
          ],
          "name": "stdout"
        },
        {
          "output_type": "display_data",
          "data": {
            "application/vnd.jupyter.widget-view+json": {
              "model_id": "2535b2c2273a49978865cda87c1b08b9",
              "version_minor": 0,
              "version_major": 2
            },
            "text/plain": [
              "HBox(children=(IntProgress(value=0, description='Epoch', max=7), HTML(value='')))"
            ]
          },
          "metadata": {
            "tags": []
          }
        },
        {
          "output_type": "stream",
          "text": [
            "epoch      trn_loss   val_loss   accuracy   \n",
            "    0      0.047342   0.001577   1.0       \n",
            "    1      0.052206   0.000767   1.0       \n",
            " 16%|█▌        | 32/204 [02:12<11:51,  4.14s/it, loss=0.0481]"
          ],
          "name": "stdout"
        },
        {
          "output_type": "stream",
          "text": [
            "    2      0.042767   0.000401   1.0       \n",
            "    3      0.044702   0.000616   1.0       \n",
            " 58%|█████▊    | 118/204 [07:56<05:47,  4.04s/it, loss=0.04]  "
          ],
          "name": "stdout"
        },
        {
          "output_type": "stream",
          "text": [
            "    4      0.04556    0.00046    1.0       \n",
            "    5      0.039715   0.000788   1.0       \n",
            " 75%|███████▌  | 153/204 [10:17<03:25,  4.04s/it, loss=0.0378]"
          ],
          "name": "stdout"
        },
        {
          "output_type": "stream",
          "text": [
            "    6      0.037948   0.000463   1.0       \n",
            "\n"
          ],
          "name": "stdout"
        },
        {
          "output_type": "execute_result",
          "data": {
            "text/plain": [
              "[array([0.00046]), 1.0]"
            ]
          },
          "metadata": {
            "tags": []
          },
          "execution_count": 25
        }
      ]
    },
    {
      "metadata": {
        "id": "VFKQFInzRyGh",
        "colab_type": "code",
        "colab": {}
      },
      "cell_type": "code",
      "source": [
        "learn.save('229_pre')\n",
        "learn.load('229_pre')"
      ],
      "execution_count": 0,
      "outputs": []
    },
    {
      "metadata": {
        "id": "XGBtQE-FRyCN",
        "colab_type": "code",
        "colab": {}
      },
      "cell_type": "code",
      "source": [
        "learn.set_data(get_data(360, 64))"
      ],
      "execution_count": 0,
      "outputs": []
    },
    {
      "metadata": {
        "id": "kiSow-v7Rx_e",
        "colab_type": "code",
        "outputId": "2de05600-5a5a-4d07-f107-7fbaa677ed9b",
        "colab": {
          "base_uri": "https://localhost:8080/",
          "height": 136
        }
      },
      "cell_type": "code",
      "source": [
        "learn.fit(lr, 2, cycle_len=1, cycle_mult=2)"
      ],
      "execution_count": 0,
      "outputs": [
        {
          "output_type": "display_data",
          "data": {
            "application/vnd.jupyter.widget-view+json": {
              "model_id": "52f3b7fa1534432aa63579b1197ef18d",
              "version_minor": 0,
              "version_major": 2
            },
            "text/plain": [
              "HBox(children=(IntProgress(value=0, description='Epoch', max=3), HTML(value='')))"
            ]
          },
          "metadata": {
            "tags": []
          }
        },
        {
          "output_type": "stream",
          "text": [
            "epoch      trn_loss   val_loss   accuracy   \n",
            "    0      0.054711   0.027197   1.0       \n",
            "    1      0.044915   0.02951    1.0       \n",
            " 16%|█▌        | 33/204 [03:13<16:44,  5.88s/it, loss=0.0458]"
          ],
          "name": "stdout"
        },
        {
          "output_type": "stream",
          "text": [
            "    2      0.040435   0.038124   1.0       \n",
            "\n"
          ],
          "name": "stdout"
        },
        {
          "output_type": "execute_result",
          "data": {
            "text/plain": [
              "[array([0.03812]), 1.0]"
            ]
          },
          "metadata": {
            "tags": []
          },
          "execution_count": 28
        }
      ]
    },
    {
      "metadata": {
        "id": "oJOtpEG3Rx6t",
        "colab_type": "code",
        "colab": {}
      },
      "cell_type": "code",
      "source": [
        "learn.save('360_pre')\n",
        "learn.load('360_pre')"
      ],
      "execution_count": 0,
      "outputs": []
    },
    {
      "metadata": {
        "id": "2KvnRniOBH_f",
        "colab_type": "code",
        "outputId": "2ebd9c40-c3af-463c-e179-fc386cce36bc",
        "colab": {
          "base_uri": "https://localhost:8080/",
          "height": 34
        }
      },
      "cell_type": "code",
      "source": [
        "#making submission file\n",
        "log_preds, y = learn.TTA(is_test=True)\n",
        "probs = np.mean(np.exp(log_preds),0)\n",
        "probs.shape"
      ],
      "execution_count": 0,
      "outputs": [
        {
          "output_type": "stream",
          "text": [
            ""
          ],
          "name": "stdout"
        },
        {
          "output_type": "execute_result",
          "data": {
            "text/plain": [
              "(6000, 30)"
            ]
          },
          "metadata": {
            "tags": []
          },
          "execution_count": 30
        }
      ]
    },
    {
      "metadata": {
        "id": "eKY6AMl-BH6-",
        "colab_type": "code",
        "colab": {}
      },
      "cell_type": "code",
      "source": [
        "df = pd.DataFrame(probs)\n",
        "df.columns = data.classes"
      ],
      "execution_count": 0,
      "outputs": []
    },
    {
      "metadata": {
        "id": "sCcR_wCFBHPk",
        "colab_type": "code",
        "outputId": "888d803f-8037-45b8-cef2-399755739232",
        "colab": {
          "base_uri": "https://localhost:8080/",
          "height": 338
        }
      },
      "cell_type": "code",
      "source": [
        "df.insert(0, 'image_id', [o[5:] for o in data.test_ds.fnames])\n",
        "df.head()"
      ],
      "execution_count": 0,
      "outputs": [
        {
          "output_type": "execute_result",
          "data": {
            "text/html": [
              "<div>\n",
              "<style scoped>\n",
              "    .dataframe tbody tr th:only-of-type {\n",
              "        vertical-align: middle;\n",
              "    }\n",
              "\n",
              "    .dataframe tbody tr th {\n",
              "        vertical-align: top;\n",
              "    }\n",
              "\n",
              "    .dataframe thead th {\n",
              "        text-align: right;\n",
              "    }\n",
              "</style>\n",
              "<table border=\"1\" class=\"dataframe\">\n",
              "  <thead>\n",
              "    <tr style=\"text-align: right;\">\n",
              "      <th></th>\n",
              "      <th>image_id</th>\n",
              "      <th>antelope</th>\n",
              "      <th>bat</th>\n",
              "      <th>beaver</th>\n",
              "      <th>bobcat</th>\n",
              "      <th>buffalo</th>\n",
              "      <th>chihuahua</th>\n",
              "      <th>chimpanzee</th>\n",
              "      <th>collie</th>\n",
              "      <th>dalmatian</th>\n",
              "      <th>...</th>\n",
              "      <th>raccoon</th>\n",
              "      <th>rat</th>\n",
              "      <th>rhinoceros</th>\n",
              "      <th>seal</th>\n",
              "      <th>siamese+cat</th>\n",
              "      <th>spider+monkey</th>\n",
              "      <th>squirrel</th>\n",
              "      <th>walrus</th>\n",
              "      <th>weasel</th>\n",
              "      <th>wolf</th>\n",
              "    </tr>\n",
              "  </thead>\n",
              "  <tbody>\n",
              "    <tr>\n",
              "      <th>0</th>\n",
              "      <td>Img-5647.jpg</td>\n",
              "      <td>1.619676e-04</td>\n",
              "      <td>1.637927e-06</td>\n",
              "      <td>8.536745e-07</td>\n",
              "      <td>3.230958e-06</td>\n",
              "      <td>8.353566e-05</td>\n",
              "      <td>8.326990e-06</td>\n",
              "      <td>6.242119e-06</td>\n",
              "      <td>9.001495e-03</td>\n",
              "      <td>4.528410e-05</td>\n",
              "      <td>...</td>\n",
              "      <td>1.381171e-06</td>\n",
              "      <td>2.179542e-07</td>\n",
              "      <td>6.802338e-05</td>\n",
              "      <td>6.979513e-05</td>\n",
              "      <td>2.218990e-05</td>\n",
              "      <td>9.709227e-06</td>\n",
              "      <td>2.234400e-06</td>\n",
              "      <td>1.430522e-05</td>\n",
              "      <td>6.519805e-06</td>\n",
              "      <td>3.543333e-05</td>\n",
              "    </tr>\n",
              "    <tr>\n",
              "      <th>1</th>\n",
              "      <td>Img-3230.jpg</td>\n",
              "      <td>9.999941e-01</td>\n",
              "      <td>6.272117e-09</td>\n",
              "      <td>9.557740e-09</td>\n",
              "      <td>7.821985e-07</td>\n",
              "      <td>2.533016e-08</td>\n",
              "      <td>8.435378e-07</td>\n",
              "      <td>1.459975e-08</td>\n",
              "      <td>4.509126e-07</td>\n",
              "      <td>1.328060e-06</td>\n",
              "      <td>...</td>\n",
              "      <td>5.077161e-08</td>\n",
              "      <td>2.484132e-07</td>\n",
              "      <td>2.345775e-08</td>\n",
              "      <td>1.250904e-08</td>\n",
              "      <td>7.436167e-09</td>\n",
              "      <td>4.522560e-08</td>\n",
              "      <td>1.120635e-07</td>\n",
              "      <td>1.298633e-07</td>\n",
              "      <td>7.652126e-08</td>\n",
              "      <td>1.856314e-07</td>\n",
              "    </tr>\n",
              "    <tr>\n",
              "      <th>2</th>\n",
              "      <td>Img-4568.jpg</td>\n",
              "      <td>1.083353e-06</td>\n",
              "      <td>1.204197e-08</td>\n",
              "      <td>3.752252e-06</td>\n",
              "      <td>3.452412e-07</td>\n",
              "      <td>8.563509e-09</td>\n",
              "      <td>2.185422e-06</td>\n",
              "      <td>1.215539e-07</td>\n",
              "      <td>2.579241e-07</td>\n",
              "      <td>6.394412e-07</td>\n",
              "      <td>...</td>\n",
              "      <td>9.999822e-01</td>\n",
              "      <td>8.342631e-07</td>\n",
              "      <td>3.232788e-08</td>\n",
              "      <td>9.012304e-09</td>\n",
              "      <td>2.155636e-08</td>\n",
              "      <td>1.926119e-07</td>\n",
              "      <td>2.098884e-06</td>\n",
              "      <td>5.669494e-08</td>\n",
              "      <td>1.486224e-06</td>\n",
              "      <td>1.395223e-07</td>\n",
              "    </tr>\n",
              "    <tr>\n",
              "      <th>3</th>\n",
              "      <td>Img-395.jpg</td>\n",
              "      <td>2.140992e-07</td>\n",
              "      <td>1.833635e-07</td>\n",
              "      <td>1.340413e-05</td>\n",
              "      <td>8.942153e-08</td>\n",
              "      <td>4.466565e-05</td>\n",
              "      <td>3.659269e-06</td>\n",
              "      <td>2.771912e-05</td>\n",
              "      <td>2.850984e-06</td>\n",
              "      <td>2.819810e-06</td>\n",
              "      <td>...</td>\n",
              "      <td>8.113968e-08</td>\n",
              "      <td>1.954130e-05</td>\n",
              "      <td>2.656360e-05</td>\n",
              "      <td>1.217158e-02</td>\n",
              "      <td>1.009568e-05</td>\n",
              "      <td>7.167854e-07</td>\n",
              "      <td>2.653717e-06</td>\n",
              "      <td>4.624942e-03</td>\n",
              "      <td>2.048628e-06</td>\n",
              "      <td>4.179227e-06</td>\n",
              "    </tr>\n",
              "    <tr>\n",
              "      <th>4</th>\n",
              "      <td>Img-4449.jpg</td>\n",
              "      <td>5.831538e-07</td>\n",
              "      <td>9.878679e-07</td>\n",
              "      <td>8.821865e-06</td>\n",
              "      <td>1.653637e-06</td>\n",
              "      <td>1.434233e-06</td>\n",
              "      <td>3.211755e-07</td>\n",
              "      <td>6.497939e-06</td>\n",
              "      <td>8.012462e-07</td>\n",
              "      <td>2.317253e-07</td>\n",
              "      <td>...</td>\n",
              "      <td>2.606133e-04</td>\n",
              "      <td>1.137030e-06</td>\n",
              "      <td>5.770088e-07</td>\n",
              "      <td>9.208277e-06</td>\n",
              "      <td>1.705974e-07</td>\n",
              "      <td>6.155243e-05</td>\n",
              "      <td>9.996187e-01</td>\n",
              "      <td>3.376758e-07</td>\n",
              "      <td>5.925617e-07</td>\n",
              "      <td>9.294068e-07</td>\n",
              "    </tr>\n",
              "  </tbody>\n",
              "</table>\n",
              "<p>5 rows × 31 columns</p>\n",
              "</div>"
            ],
            "text/plain": [
              "       image_id      antelope           bat        beaver        bobcat  \\\n",
              "0  Img-5647.jpg  1.619676e-04  1.637927e-06  8.536745e-07  3.230958e-06   \n",
              "1  Img-3230.jpg  9.999941e-01  6.272117e-09  9.557740e-09  7.821985e-07   \n",
              "2  Img-4568.jpg  1.083353e-06  1.204197e-08  3.752252e-06  3.452412e-07   \n",
              "3   Img-395.jpg  2.140992e-07  1.833635e-07  1.340413e-05  8.942153e-08   \n",
              "4  Img-4449.jpg  5.831538e-07  9.878679e-07  8.821865e-06  1.653637e-06   \n",
              "\n",
              "        buffalo     chihuahua    chimpanzee        collie     dalmatian  \\\n",
              "0  8.353566e-05  8.326990e-06  6.242119e-06  9.001495e-03  4.528410e-05   \n",
              "1  2.533016e-08  8.435378e-07  1.459975e-08  4.509126e-07  1.328060e-06   \n",
              "2  8.563509e-09  2.185422e-06  1.215539e-07  2.579241e-07  6.394412e-07   \n",
              "3  4.466565e-05  3.659269e-06  2.771912e-05  2.850984e-06  2.819810e-06   \n",
              "4  1.434233e-06  3.211755e-07  6.497939e-06  8.012462e-07  2.317253e-07   \n",
              "\n",
              "       ...            raccoon           rat    rhinoceros          seal  \\\n",
              "0      ...       1.381171e-06  2.179542e-07  6.802338e-05  6.979513e-05   \n",
              "1      ...       5.077161e-08  2.484132e-07  2.345775e-08  1.250904e-08   \n",
              "2      ...       9.999822e-01  8.342631e-07  3.232788e-08  9.012304e-09   \n",
              "3      ...       8.113968e-08  1.954130e-05  2.656360e-05  1.217158e-02   \n",
              "4      ...       2.606133e-04  1.137030e-06  5.770088e-07  9.208277e-06   \n",
              "\n",
              "    siamese+cat  spider+monkey      squirrel        walrus        weasel  \\\n",
              "0  2.218990e-05   9.709227e-06  2.234400e-06  1.430522e-05  6.519805e-06   \n",
              "1  7.436167e-09   4.522560e-08  1.120635e-07  1.298633e-07  7.652126e-08   \n",
              "2  2.155636e-08   1.926119e-07  2.098884e-06  5.669494e-08  1.486224e-06   \n",
              "3  1.009568e-05   7.167854e-07  2.653717e-06  4.624942e-03  2.048628e-06   \n",
              "4  1.705974e-07   6.155243e-05  9.996187e-01  3.376758e-07  5.925617e-07   \n",
              "\n",
              "           wolf  \n",
              "0  3.543333e-05  \n",
              "1  1.856314e-07  \n",
              "2  1.395223e-07  \n",
              "3  4.179227e-06  \n",
              "4  9.294068e-07  \n",
              "\n",
              "[5 rows x 31 columns]"
            ]
          },
          "metadata": {
            "tags": []
          },
          "execution_count": 32
        }
      ]
    },
    {
      "metadata": {
        "id": "7PwQvZHzBHLH",
        "colab_type": "code",
        "colab": {}
      },
      "cell_type": "code",
      "source": [
        "#make csv and zip it \n",
        "SUBM = f'{PATH}sub/' \n",
        "os.makedirs(SUBM, exist_ok=True) \n",
        "df.to_csv(f'{SUBM}subm8.gz', compression='gzip', index=False)"
      ],
      "execution_count": 0,
      "outputs": []
    },
    {
      "metadata": {
        "id": "M7MnWd5TBHIh",
        "colab_type": "code",
        "colab": {}
      },
      "cell_type": "code",
      "source": [
        "from google.colab import files\n",
        "files.download(\"/content/clouderizer/fast.ai/data/sub/subm8.gz\")"
      ],
      "execution_count": 0,
      "outputs": []
    },
    {
      "metadata": {
        "id": "Ey-ENf7cx7y6",
        "colab_type": "code",
        "colab": {}
      },
      "cell_type": "code",
      "source": [
        "#--------------------------------------------------------------------"
      ],
      "execution_count": 0,
      "outputs": []
    },
    {
      "metadata": {
        "id": "P7dOH9aAxkVp",
        "colab_type": "code",
        "colab": {}
      },
      "cell_type": "code",
      "source": [
        "learn.set_data(get_data(420, 16))"
      ],
      "execution_count": 0,
      "outputs": []
    },
    {
      "metadata": {
        "id": "euujKNIlRx1D",
        "colab_type": "code",
        "outputId": "9d4acba6-0224-4a8e-9255-9cf5895fcfb9",
        "colab": {
          "base_uri": "https://localhost:8080/",
          "height": 102
        }
      },
      "cell_type": "code",
      "source": [
        "learn.fit(lr, 1 )"
      ],
      "execution_count": 0,
      "outputs": [
        {
          "output_type": "display_data",
          "data": {
            "application/vnd.jupyter.widget-view+json": {
              "model_id": "259860f24278482e8da22087be30ce51",
              "version_minor": 0,
              "version_major": 2
            },
            "text/plain": [
              "HBox(children=(IntProgress(value=0, description='Epoch', max=1), HTML(value='')))"
            ]
          },
          "metadata": {
            "tags": []
          }
        },
        {
          "output_type": "stream",
          "text": [
            "epoch      trn_loss   val_loss   accuracy   \n",
            "    0      0.075403   0.027132   1.0       \n",
            "\n"
          ],
          "name": "stdout"
        },
        {
          "output_type": "execute_result",
          "data": {
            "text/plain": [
              "[array([0.02713]), 1.0]"
            ]
          },
          "metadata": {
            "tags": []
          },
          "execution_count": 36
        }
      ]
    },
    {
      "metadata": {
        "id": "3cUXgeVSKkRt",
        "colab_type": "code",
        "outputId": "71b9db3d-33ae-4c68-bf90-763d474fa7ba",
        "colab": {
          "base_uri": "https://localhost:8080/",
          "height": 119
        }
      },
      "cell_type": "code",
      "source": [
        "learn.fit(lr, 2 )"
      ],
      "execution_count": 0,
      "outputs": [
        {
          "output_type": "display_data",
          "data": {
            "application/vnd.jupyter.widget-view+json": {
              "model_id": "91a49e6999594651825e5805c8e02a12",
              "version_minor": 0,
              "version_major": 2
            },
            "text/plain": [
              "HBox(children=(IntProgress(value=0, description='Epoch', max=2), HTML(value='')))"
            ]
          },
          "metadata": {
            "tags": []
          }
        },
        {
          "output_type": "stream",
          "text": [
            ""
          ],
          "name": "stdout"
        },
        {
          "output_type": "stream",
          "text": [
            "epoch      trn_loss   val_loss   accuracy   \n",
            "    0      0.095298   0.079907   1.0       \n",
            " 41%|████      | 331/813 [11:07<16:12,  2.02s/it, loss=0.0704]"
          ],
          "name": "stdout"
        },
        {
          "output_type": "stream",
          "text": [
            "    1      0.071435   0.075263   1.0       \n",
            "\n"
          ],
          "name": "stdout"
        },
        {
          "output_type": "execute_result",
          "data": {
            "text/plain": [
              "[array([0.07526]), 1.0]"
            ]
          },
          "metadata": {
            "tags": []
          },
          "execution_count": 37
        }
      ]
    },
    {
      "metadata": {
        "id": "7W1D2LUGziCJ",
        "colab_type": "code",
        "colab": {}
      },
      "cell_type": "code",
      "source": [
        "learn.save('420_pre')\n",
        "learn.load('420_pre')"
      ],
      "execution_count": 0,
      "outputs": []
    },
    {
      "metadata": {
        "id": "8kAfMelYznbu",
        "colab_type": "code",
        "colab": {}
      },
      "cell_type": "code",
      "source": [
        "#-------------------------------------"
      ],
      "execution_count": 0,
      "outputs": []
    },
    {
      "metadata": {
        "id": "7z_6bzG2DPY5",
        "colab_type": "code",
        "outputId": "e0bd042f-a8ec-4279-cc0a-bc9a205fc41a",
        "colab": {
          "base_uri": "https://localhost:8080/",
          "height": 34
        }
      },
      "cell_type": "code",
      "source": [
        "log_preds, y = learn.TTA(is_test=True)\n",
        "probs = np.mean(np.exp(log_preds),0)\n",
        "probs.shape"
      ],
      "execution_count": 0,
      "outputs": [
        {
          "output_type": "stream",
          "text": [
            ""
          ],
          "name": "stdout"
        },
        {
          "output_type": "execute_result",
          "data": {
            "text/plain": [
              "(6000, 30)"
            ]
          },
          "metadata": {
            "tags": []
          },
          "execution_count": 39
        }
      ]
    },
    {
      "metadata": {
        "id": "V2pSpalkDPV8",
        "colab_type": "code",
        "colab": {}
      },
      "cell_type": "code",
      "source": [
        "df = pd.DataFrame(probs)\n",
        "df.columns = data.classes"
      ],
      "execution_count": 0,
      "outputs": []
    },
    {
      "metadata": {
        "id": "BnMEAnizDhnd",
        "colab_type": "code",
        "outputId": "b9baab9d-8ed3-4158-9b66-4ac7ca3be03c",
        "colab": {
          "base_uri": "https://localhost:8080/",
          "height": 338
        }
      },
      "cell_type": "code",
      "source": [
        "df.insert(0, 'image_id', [o[5:] for o in data.test_ds.fnames])\n",
        "df.head()"
      ],
      "execution_count": 0,
      "outputs": [
        {
          "output_type": "execute_result",
          "data": {
            "text/html": [
              "<div>\n",
              "<style scoped>\n",
              "    .dataframe tbody tr th:only-of-type {\n",
              "        vertical-align: middle;\n",
              "    }\n",
              "\n",
              "    .dataframe tbody tr th {\n",
              "        vertical-align: top;\n",
              "    }\n",
              "\n",
              "    .dataframe thead th {\n",
              "        text-align: right;\n",
              "    }\n",
              "</style>\n",
              "<table border=\"1\" class=\"dataframe\">\n",
              "  <thead>\n",
              "    <tr style=\"text-align: right;\">\n",
              "      <th></th>\n",
              "      <th>image_id</th>\n",
              "      <th>antelope</th>\n",
              "      <th>bat</th>\n",
              "      <th>beaver</th>\n",
              "      <th>bobcat</th>\n",
              "      <th>buffalo</th>\n",
              "      <th>chihuahua</th>\n",
              "      <th>chimpanzee</th>\n",
              "      <th>collie</th>\n",
              "      <th>dalmatian</th>\n",
              "      <th>...</th>\n",
              "      <th>raccoon</th>\n",
              "      <th>rat</th>\n",
              "      <th>rhinoceros</th>\n",
              "      <th>seal</th>\n",
              "      <th>siamese+cat</th>\n",
              "      <th>spider+monkey</th>\n",
              "      <th>squirrel</th>\n",
              "      <th>walrus</th>\n",
              "      <th>weasel</th>\n",
              "      <th>wolf</th>\n",
              "    </tr>\n",
              "  </thead>\n",
              "  <tbody>\n",
              "    <tr>\n",
              "      <th>0</th>\n",
              "      <td>Img-5647.jpg</td>\n",
              "      <td>3.159350e-05</td>\n",
              "      <td>8.928788e-06</td>\n",
              "      <td>1.424190e-06</td>\n",
              "      <td>3.163671e-06</td>\n",
              "      <td>9.531980e-05</td>\n",
              "      <td>1.266143e-05</td>\n",
              "      <td>3.213432e-06</td>\n",
              "      <td>2.368384e-03</td>\n",
              "      <td>8.829939e-05</td>\n",
              "      <td>...</td>\n",
              "      <td>9.412486e-06</td>\n",
              "      <td>8.175143e-07</td>\n",
              "      <td>2.968850e-04</td>\n",
              "      <td>5.378051e-05</td>\n",
              "      <td>5.613676e-05</td>\n",
              "      <td>3.570866e-05</td>\n",
              "      <td>1.254341e-05</td>\n",
              "      <td>7.219761e-06</td>\n",
              "      <td>7.715807e-06</td>\n",
              "      <td>1.594744e-05</td>\n",
              "    </tr>\n",
              "    <tr>\n",
              "      <th>1</th>\n",
              "      <td>Img-3230.jpg</td>\n",
              "      <td>9.999989e-01</td>\n",
              "      <td>4.410581e-10</td>\n",
              "      <td>7.409740e-09</td>\n",
              "      <td>3.252055e-07</td>\n",
              "      <td>3.372520e-09</td>\n",
              "      <td>1.509341e-08</td>\n",
              "      <td>9.406571e-10</td>\n",
              "      <td>4.785741e-08</td>\n",
              "      <td>3.069857e-07</td>\n",
              "      <td>...</td>\n",
              "      <td>1.290144e-08</td>\n",
              "      <td>6.030067e-09</td>\n",
              "      <td>2.595238e-09</td>\n",
              "      <td>1.813413e-09</td>\n",
              "      <td>1.153833e-10</td>\n",
              "      <td>8.572713e-10</td>\n",
              "      <td>1.105912e-08</td>\n",
              "      <td>5.390022e-09</td>\n",
              "      <td>1.162741e-09</td>\n",
              "      <td>3.082452e-09</td>\n",
              "    </tr>\n",
              "    <tr>\n",
              "      <th>2</th>\n",
              "      <td>Img-4568.jpg</td>\n",
              "      <td>2.687980e-07</td>\n",
              "      <td>4.843321e-09</td>\n",
              "      <td>1.006783e-06</td>\n",
              "      <td>3.782131e-08</td>\n",
              "      <td>1.027670e-09</td>\n",
              "      <td>8.587640e-07</td>\n",
              "      <td>2.681424e-08</td>\n",
              "      <td>6.297764e-08</td>\n",
              "      <td>1.676035e-08</td>\n",
              "      <td>...</td>\n",
              "      <td>9.999946e-01</td>\n",
              "      <td>4.205262e-08</td>\n",
              "      <td>1.532161e-09</td>\n",
              "      <td>3.884408e-09</td>\n",
              "      <td>2.434926e-09</td>\n",
              "      <td>2.533341e-08</td>\n",
              "      <td>1.814196e-06</td>\n",
              "      <td>8.880784e-09</td>\n",
              "      <td>6.122975e-07</td>\n",
              "      <td>3.280068e-08</td>\n",
              "    </tr>\n",
              "    <tr>\n",
              "      <th>3</th>\n",
              "      <td>Img-395.jpg</td>\n",
              "      <td>2.902317e-07</td>\n",
              "      <td>9.444283e-08</td>\n",
              "      <td>4.002781e-06</td>\n",
              "      <td>1.010353e-07</td>\n",
              "      <td>1.339610e-05</td>\n",
              "      <td>5.511737e-06</td>\n",
              "      <td>2.670262e-04</td>\n",
              "      <td>1.743207e-06</td>\n",
              "      <td>2.048028e-06</td>\n",
              "      <td>...</td>\n",
              "      <td>5.612122e-07</td>\n",
              "      <td>1.355699e-05</td>\n",
              "      <td>7.047990e-05</td>\n",
              "      <td>6.026975e-04</td>\n",
              "      <td>1.884430e-05</td>\n",
              "      <td>1.994449e-06</td>\n",
              "      <td>8.812417e-07</td>\n",
              "      <td>3.871692e-04</td>\n",
              "      <td>3.919969e-06</td>\n",
              "      <td>3.350742e-06</td>\n",
              "    </tr>\n",
              "    <tr>\n",
              "      <th>4</th>\n",
              "      <td>Img-4449.jpg</td>\n",
              "      <td>1.123357e-08</td>\n",
              "      <td>1.097230e-07</td>\n",
              "      <td>1.032839e-06</td>\n",
              "      <td>9.813154e-08</td>\n",
              "      <td>5.498913e-08</td>\n",
              "      <td>3.354518e-08</td>\n",
              "      <td>7.284951e-07</td>\n",
              "      <td>1.356309e-07</td>\n",
              "      <td>5.251192e-09</td>\n",
              "      <td>...</td>\n",
              "      <td>2.768773e-05</td>\n",
              "      <td>2.168487e-08</td>\n",
              "      <td>4.325886e-09</td>\n",
              "      <td>9.960676e-07</td>\n",
              "      <td>1.121863e-08</td>\n",
              "      <td>7.563170e-06</td>\n",
              "      <td>9.999599e-01</td>\n",
              "      <td>1.503267e-09</td>\n",
              "      <td>4.816941e-08</td>\n",
              "      <td>1.346436e-07</td>\n",
              "    </tr>\n",
              "  </tbody>\n",
              "</table>\n",
              "<p>5 rows × 31 columns</p>\n",
              "</div>"
            ],
            "text/plain": [
              "       image_id      antelope           bat        beaver        bobcat  \\\n",
              "0  Img-5647.jpg  3.159350e-05  8.928788e-06  1.424190e-06  3.163671e-06   \n",
              "1  Img-3230.jpg  9.999989e-01  4.410581e-10  7.409740e-09  3.252055e-07   \n",
              "2  Img-4568.jpg  2.687980e-07  4.843321e-09  1.006783e-06  3.782131e-08   \n",
              "3   Img-395.jpg  2.902317e-07  9.444283e-08  4.002781e-06  1.010353e-07   \n",
              "4  Img-4449.jpg  1.123357e-08  1.097230e-07  1.032839e-06  9.813154e-08   \n",
              "\n",
              "        buffalo     chihuahua    chimpanzee        collie     dalmatian  \\\n",
              "0  9.531980e-05  1.266143e-05  3.213432e-06  2.368384e-03  8.829939e-05   \n",
              "1  3.372520e-09  1.509341e-08  9.406571e-10  4.785741e-08  3.069857e-07   \n",
              "2  1.027670e-09  8.587640e-07  2.681424e-08  6.297764e-08  1.676035e-08   \n",
              "3  1.339610e-05  5.511737e-06  2.670262e-04  1.743207e-06  2.048028e-06   \n",
              "4  5.498913e-08  3.354518e-08  7.284951e-07  1.356309e-07  5.251192e-09   \n",
              "\n",
              "       ...            raccoon           rat    rhinoceros          seal  \\\n",
              "0      ...       9.412486e-06  8.175143e-07  2.968850e-04  5.378051e-05   \n",
              "1      ...       1.290144e-08  6.030067e-09  2.595238e-09  1.813413e-09   \n",
              "2      ...       9.999946e-01  4.205262e-08  1.532161e-09  3.884408e-09   \n",
              "3      ...       5.612122e-07  1.355699e-05  7.047990e-05  6.026975e-04   \n",
              "4      ...       2.768773e-05  2.168487e-08  4.325886e-09  9.960676e-07   \n",
              "\n",
              "    siamese+cat  spider+monkey      squirrel        walrus        weasel  \\\n",
              "0  5.613676e-05   3.570866e-05  1.254341e-05  7.219761e-06  7.715807e-06   \n",
              "1  1.153833e-10   8.572713e-10  1.105912e-08  5.390022e-09  1.162741e-09   \n",
              "2  2.434926e-09   2.533341e-08  1.814196e-06  8.880784e-09  6.122975e-07   \n",
              "3  1.884430e-05   1.994449e-06  8.812417e-07  3.871692e-04  3.919969e-06   \n",
              "4  1.121863e-08   7.563170e-06  9.999599e-01  1.503267e-09  4.816941e-08   \n",
              "\n",
              "           wolf  \n",
              "0  1.594744e-05  \n",
              "1  3.082452e-09  \n",
              "2  3.280068e-08  \n",
              "3  3.350742e-06  \n",
              "4  1.346436e-07  \n",
              "\n",
              "[5 rows x 31 columns]"
            ]
          },
          "metadata": {
            "tags": []
          },
          "execution_count": 41
        }
      ]
    },
    {
      "metadata": {
        "id": "obR15EWTDhgZ",
        "colab_type": "code",
        "colab": {}
      },
      "cell_type": "code",
      "source": [
        "#make csv and zip it \n",
        "SUBM = f'{PATH}sub/' \n",
        "os.makedirs(SUBM, exist_ok=True) \n",
        "df.to_csv(f'{SUBM}subm9.gz', compression='gzip', index=False)"
      ],
      "execution_count": 0,
      "outputs": []
    },
    {
      "metadata": {
        "id": "kbVAqi1nDhbY",
        "colab_type": "code",
        "colab": {}
      },
      "cell_type": "code",
      "source": [
        "from google.colab import files\n",
        "files.download(\"/content/clouderizer/fast.ai/data/sub/subm9.gz\")"
      ],
      "execution_count": 0,
      "outputs": []
    },
    {
      "metadata": {
        "id": "NvkUPeOcDO9t",
        "colab_type": "code",
        "colab": {}
      },
      "cell_type": "code",
      "source": [
        "#---------------------------------------"
      ],
      "execution_count": 0,
      "outputs": []
    },
    {
      "metadata": {
        "id": "45UZP-1ofGUw",
        "colab_type": "code",
        "outputId": "54a9abb6-4c0d-4c44-f7db-a4f21fdee1a8",
        "colab": {
          "base_uri": "https://localhost:8080/",
          "height": 102
        }
      },
      "cell_type": "code",
      "source": [
        "learn.fit(lr, 1)"
      ],
      "execution_count": 0,
      "outputs": [
        {
          "output_type": "display_data",
          "data": {
            "application/vnd.jupyter.widget-view+json": {
              "model_id": "9e148876049043189b63151780c6c38e",
              "version_minor": 0,
              "version_major": 2
            },
            "text/plain": [
              "HBox(children=(IntProgress(value=0, description='Epoch', max=1), HTML(value='')))"
            ]
          },
          "metadata": {
            "tags": []
          }
        },
        {
          "output_type": "stream",
          "text": [
            "epoch      trn_loss   val_loss   accuracy   \n",
            "    0      0.068419   0.004453   1.0       \n",
            "\n"
          ],
          "name": "stdout"
        },
        {
          "output_type": "execute_result",
          "data": {
            "text/plain": [
              "[array([0.00445]), 1.0]"
            ]
          },
          "metadata": {
            "tags": []
          },
          "execution_count": 44
        }
      ]
    },
    {
      "metadata": {
        "id": "vvBQrNEgsAKs",
        "colab_type": "code",
        "colab": {}
      },
      "cell_type": "code",
      "source": [
        "learn.save('420_pree')\n",
        "learn.load('420_pree')"
      ],
      "execution_count": 0,
      "outputs": []
    },
    {
      "metadata": {
        "id": "Fq8rVpVES4Nw",
        "colab_type": "text"
      },
      "cell_type": "markdown",
      "source": [
        "#After Training"
      ]
    },
    {
      "metadata": {
        "id": "5NHaPMDJWN2q",
        "colab_type": "text"
      },
      "cell_type": "markdown",
      "source": [
        "##Getting data to submit"
      ]
    },
    {
      "metadata": {
        "id": "qGR6-EguquW6",
        "colab_type": "code",
        "outputId": "09ee306d-39d2-40df-cef6-abb53a737269",
        "colab": {
          "base_uri": "https://localhost:8080/",
          "height": 17
        }
      },
      "cell_type": "code",
      "source": [
        "log_preds, y = learn.TTA(is_test=True)"
      ],
      "execution_count": 0,
      "outputs": [
        {
          "output_type": "stream",
          "text": [
            ""
          ],
          "name": "stdout"
        }
      ]
    },
    {
      "metadata": {
        "id": "2f8XosBtrDXQ",
        "colab_type": "code",
        "colab": {}
      },
      "cell_type": "code",
      "source": [
        "probs = np.mean(np.exp(log_preds),0)"
      ],
      "execution_count": 0,
      "outputs": []
    },
    {
      "metadata": {
        "id": "BhTXTdLctj7i",
        "colab_type": "code",
        "outputId": "3fba7f0e-0068-4808-fd9f-3efeae23508b",
        "colab": {
          "base_uri": "https://localhost:8080/",
          "height": 34
        }
      },
      "cell_type": "code",
      "source": [
        "probs.shape"
      ],
      "execution_count": 0,
      "outputs": [
        {
          "output_type": "execute_result",
          "data": {
            "text/plain": [
              "(6000, 30)"
            ]
          },
          "metadata": {
            "tags": []
          },
          "execution_count": 47
        }
      ]
    },
    {
      "metadata": {
        "id": "_Q52VLhttjmm",
        "colab_type": "code",
        "colab": {}
      },
      "cell_type": "code",
      "source": [
        "df = pd.DataFrame(probs)\n",
        "df.columns = data.classes"
      ],
      "execution_count": 0,
      "outputs": []
    },
    {
      "metadata": {
        "id": "2M8eM-3_ufGg",
        "colab_type": "code",
        "colab": {}
      },
      "cell_type": "code",
      "source": [
        "df.insert(0, 'image_id', [o[5:-4] for o in data.test_ds.fnames])"
      ],
      "execution_count": 0,
      "outputs": []
    },
    {
      "metadata": {
        "id": "LCqR969Nui3S",
        "colab_type": "code",
        "outputId": "ca69b0e7-53c6-40b1-b22f-f6ab9b207099",
        "colab": {
          "base_uri": "https://localhost:8080/",
          "height": 338
        }
      },
      "cell_type": "code",
      "source": [
        "df.head()"
      ],
      "execution_count": 0,
      "outputs": [
        {
          "output_type": "execute_result",
          "data": {
            "text/html": [
              "<div>\n",
              "<style scoped>\n",
              "    .dataframe tbody tr th:only-of-type {\n",
              "        vertical-align: middle;\n",
              "    }\n",
              "\n",
              "    .dataframe tbody tr th {\n",
              "        vertical-align: top;\n",
              "    }\n",
              "\n",
              "    .dataframe thead th {\n",
              "        text-align: right;\n",
              "    }\n",
              "</style>\n",
              "<table border=\"1\" class=\"dataframe\">\n",
              "  <thead>\n",
              "    <tr style=\"text-align: right;\">\n",
              "      <th></th>\n",
              "      <th>image_id</th>\n",
              "      <th>antelope</th>\n",
              "      <th>bat</th>\n",
              "      <th>beaver</th>\n",
              "      <th>bobcat</th>\n",
              "      <th>buffalo</th>\n",
              "      <th>chihuahua</th>\n",
              "      <th>chimpanzee</th>\n",
              "      <th>collie</th>\n",
              "      <th>dalmatian</th>\n",
              "      <th>...</th>\n",
              "      <th>raccoon</th>\n",
              "      <th>rat</th>\n",
              "      <th>rhinoceros</th>\n",
              "      <th>seal</th>\n",
              "      <th>siamese+cat</th>\n",
              "      <th>spider+monkey</th>\n",
              "      <th>squirrel</th>\n",
              "      <th>walrus</th>\n",
              "      <th>weasel</th>\n",
              "      <th>wolf</th>\n",
              "    </tr>\n",
              "  </thead>\n",
              "  <tbody>\n",
              "    <tr>\n",
              "      <th>0</th>\n",
              "      <td>Img-5647</td>\n",
              "      <td>5.316023e-05</td>\n",
              "      <td>3.883140e-06</td>\n",
              "      <td>8.864310e-07</td>\n",
              "      <td>5.036297e-07</td>\n",
              "      <td>5.317185e-05</td>\n",
              "      <td>6.992554e-06</td>\n",
              "      <td>1.703840e-06</td>\n",
              "      <td>7.796769e-03</td>\n",
              "      <td>3.373071e-05</td>\n",
              "      <td>...</td>\n",
              "      <td>3.003962e-06</td>\n",
              "      <td>1.079518e-06</td>\n",
              "      <td>5.940852e-05</td>\n",
              "      <td>6.497854e-05</td>\n",
              "      <td>7.006856e-06</td>\n",
              "      <td>5.007122e-06</td>\n",
              "      <td>1.381043e-05</td>\n",
              "      <td>7.140030e-06</td>\n",
              "      <td>6.290088e-06</td>\n",
              "      <td>8.939817e-06</td>\n",
              "    </tr>\n",
              "    <tr>\n",
              "      <th>1</th>\n",
              "      <td>Img-3230</td>\n",
              "      <td>1.000000e+00</td>\n",
              "      <td>1.562931e-10</td>\n",
              "      <td>5.964725e-10</td>\n",
              "      <td>1.941112e-08</td>\n",
              "      <td>7.937418e-10</td>\n",
              "      <td>1.104478e-08</td>\n",
              "      <td>8.903778e-10</td>\n",
              "      <td>6.634715e-09</td>\n",
              "      <td>4.054542e-08</td>\n",
              "      <td>...</td>\n",
              "      <td>2.050071e-09</td>\n",
              "      <td>2.025541e-09</td>\n",
              "      <td>7.023994e-10</td>\n",
              "      <td>1.447848e-09</td>\n",
              "      <td>1.249744e-10</td>\n",
              "      <td>3.772094e-10</td>\n",
              "      <td>4.312124e-09</td>\n",
              "      <td>3.678966e-09</td>\n",
              "      <td>3.786923e-10</td>\n",
              "      <td>4.623049e-10</td>\n",
              "    </tr>\n",
              "    <tr>\n",
              "      <th>2</th>\n",
              "      <td>Img-4568</td>\n",
              "      <td>2.464635e-07</td>\n",
              "      <td>3.461924e-09</td>\n",
              "      <td>2.878338e-07</td>\n",
              "      <td>7.212703e-08</td>\n",
              "      <td>2.331194e-09</td>\n",
              "      <td>4.699698e-06</td>\n",
              "      <td>1.668912e-08</td>\n",
              "      <td>1.040845e-07</td>\n",
              "      <td>2.820643e-08</td>\n",
              "      <td>...</td>\n",
              "      <td>9.999901e-01</td>\n",
              "      <td>4.331356e-08</td>\n",
              "      <td>4.257209e-09</td>\n",
              "      <td>5.682838e-09</td>\n",
              "      <td>5.741929e-09</td>\n",
              "      <td>4.775297e-08</td>\n",
              "      <td>2.498116e-06</td>\n",
              "      <td>1.137850e-08</td>\n",
              "      <td>1.029529e-06</td>\n",
              "      <td>2.286205e-08</td>\n",
              "    </tr>\n",
              "    <tr>\n",
              "      <th>3</th>\n",
              "      <td>Img-395</td>\n",
              "      <td>2.333444e-06</td>\n",
              "      <td>2.174487e-07</td>\n",
              "      <td>9.582183e-07</td>\n",
              "      <td>1.255184e-07</td>\n",
              "      <td>1.866524e-05</td>\n",
              "      <td>8.003702e-06</td>\n",
              "      <td>1.147674e-04</td>\n",
              "      <td>1.643990e-06</td>\n",
              "      <td>1.079168e-05</td>\n",
              "      <td>...</td>\n",
              "      <td>1.286151e-07</td>\n",
              "      <td>5.902455e-06</td>\n",
              "      <td>1.085797e-04</td>\n",
              "      <td>8.845142e-04</td>\n",
              "      <td>5.214484e-05</td>\n",
              "      <td>1.413803e-06</td>\n",
              "      <td>3.528847e-07</td>\n",
              "      <td>3.425514e-02</td>\n",
              "      <td>1.035389e-06</td>\n",
              "      <td>1.650207e-06</td>\n",
              "    </tr>\n",
              "    <tr>\n",
              "      <th>4</th>\n",
              "      <td>Img-4449</td>\n",
              "      <td>1.239025e-08</td>\n",
              "      <td>3.571765e-08</td>\n",
              "      <td>2.042582e-06</td>\n",
              "      <td>3.933425e-08</td>\n",
              "      <td>5.096384e-08</td>\n",
              "      <td>3.194642e-08</td>\n",
              "      <td>3.507893e-07</td>\n",
              "      <td>2.088610e-07</td>\n",
              "      <td>7.279828e-09</td>\n",
              "      <td>...</td>\n",
              "      <td>3.286292e-05</td>\n",
              "      <td>3.809642e-08</td>\n",
              "      <td>9.676155e-09</td>\n",
              "      <td>2.271983e-06</td>\n",
              "      <td>1.482867e-08</td>\n",
              "      <td>1.288601e-05</td>\n",
              "      <td>9.999371e-01</td>\n",
              "      <td>2.057785e-09</td>\n",
              "      <td>2.277810e-08</td>\n",
              "      <td>9.102267e-08</td>\n",
              "    </tr>\n",
              "  </tbody>\n",
              "</table>\n",
              "<p>5 rows × 31 columns</p>\n",
              "</div>"
            ],
            "text/plain": [
              "   image_id      antelope           bat        beaver        bobcat  \\\n",
              "0  Img-5647  5.316023e-05  3.883140e-06  8.864310e-07  5.036297e-07   \n",
              "1  Img-3230  1.000000e+00  1.562931e-10  5.964725e-10  1.941112e-08   \n",
              "2  Img-4568  2.464635e-07  3.461924e-09  2.878338e-07  7.212703e-08   \n",
              "3   Img-395  2.333444e-06  2.174487e-07  9.582183e-07  1.255184e-07   \n",
              "4  Img-4449  1.239025e-08  3.571765e-08  2.042582e-06  3.933425e-08   \n",
              "\n",
              "        buffalo     chihuahua    chimpanzee        collie     dalmatian  \\\n",
              "0  5.317185e-05  6.992554e-06  1.703840e-06  7.796769e-03  3.373071e-05   \n",
              "1  7.937418e-10  1.104478e-08  8.903778e-10  6.634715e-09  4.054542e-08   \n",
              "2  2.331194e-09  4.699698e-06  1.668912e-08  1.040845e-07  2.820643e-08   \n",
              "3  1.866524e-05  8.003702e-06  1.147674e-04  1.643990e-06  1.079168e-05   \n",
              "4  5.096384e-08  3.194642e-08  3.507893e-07  2.088610e-07  7.279828e-09   \n",
              "\n",
              "       ...            raccoon           rat    rhinoceros          seal  \\\n",
              "0      ...       3.003962e-06  1.079518e-06  5.940852e-05  6.497854e-05   \n",
              "1      ...       2.050071e-09  2.025541e-09  7.023994e-10  1.447848e-09   \n",
              "2      ...       9.999901e-01  4.331356e-08  4.257209e-09  5.682838e-09   \n",
              "3      ...       1.286151e-07  5.902455e-06  1.085797e-04  8.845142e-04   \n",
              "4      ...       3.286292e-05  3.809642e-08  9.676155e-09  2.271983e-06   \n",
              "\n",
              "    siamese+cat  spider+monkey      squirrel        walrus        weasel  \\\n",
              "0  7.006856e-06   5.007122e-06  1.381043e-05  7.140030e-06  6.290088e-06   \n",
              "1  1.249744e-10   3.772094e-10  4.312124e-09  3.678966e-09  3.786923e-10   \n",
              "2  5.741929e-09   4.775297e-08  2.498116e-06  1.137850e-08  1.029529e-06   \n",
              "3  5.214484e-05   1.413803e-06  3.528847e-07  3.425514e-02  1.035389e-06   \n",
              "4  1.482867e-08   1.288601e-05  9.999371e-01  2.057785e-09  2.277810e-08   \n",
              "\n",
              "           wolf  \n",
              "0  8.939817e-06  \n",
              "1  4.623049e-10  \n",
              "2  2.286205e-08  \n",
              "3  1.650207e-06  \n",
              "4  9.102267e-08  \n",
              "\n",
              "[5 rows x 31 columns]"
            ]
          },
          "metadata": {
            "tags": []
          },
          "execution_count": 50
        }
      ]
    },
    {
      "metadata": {
        "id": "edxN3ZZjus8e",
        "colab_type": "code",
        "colab": {}
      },
      "cell_type": "code",
      "source": [
        "#make csv and zip it \n",
        "SUBM = f'{PATH}sub/' \n",
        "os.makedirs(SUBM, exist_ok=True) \n",
        "df.to_csv(f'{SUBM}subm10.gz', compression='gzip', index=False)"
      ],
      "execution_count": 0,
      "outputs": []
    },
    {
      "metadata": {
        "id": "hDm3r8dQvZJO",
        "colab_type": "code",
        "outputId": "95a6a9ec-954a-4f25-a9fc-596f577c270b",
        "colab": {
          "base_uri": "https://localhost:8080/",
          "height": 34
        }
      },
      "cell_type": "code",
      "source": [
        "FileLink(f'{SUBM}subm4.gz') # download file"
      ],
      "execution_count": 0,
      "outputs": [
        {
          "output_type": "execute_result",
          "data": {
            "text/html": [
              "<a href='/content/clouderizer/fast.ai/data/sub/subm.gz' target='_blank'>/content/clouderizer/fast.ai/data/sub/subm.gz</a><br>"
            ],
            "text/plain": [
              "/content/clouderizer/fast.ai/data/sub/subm.gz"
            ]
          },
          "metadata": {
            "tags": []
          },
          "execution_count": 104
        }
      ]
    },
    {
      "metadata": {
        "id": "T6_Z5fgYFSoA",
        "colab_type": "text"
      },
      "cell_type": "markdown",
      "source": [
        "### 1"
      ]
    },
    {
      "metadata": {
        "id": "gDQKjFXsEA16",
        "colab_type": "code",
        "colab": {}
      },
      "cell_type": "code",
      "source": [
        "img = plt.imread('/content/clouderizer/fast.ai/fastai/courses/dl1/data1/competitions/dog-breed-identification/test/68cfc459e57429b1f8b6372fa1363a60.jpg')\n",
        "plt.imshow(img);"
      ],
      "execution_count": 0,
      "outputs": []
    },
    {
      "metadata": {
        "id": "aMwTDbgTG83m",
        "colab_type": "code",
        "colab": {}
      },
      "cell_type": "code",
      "source": [
        "trn_tfms, val_tfms = tfms_from_model(arch, sz)"
      ],
      "execution_count": 0,
      "outputs": []
    },
    {
      "metadata": {
        "id": "mrPaavRFrUy4",
        "colab_type": "code",
        "outputId": "b61096f3-7854-45ff-83fd-3a3bcb9b4af4",
        "colab": {
          "base_uri": "https://localhost:8080/",
          "height": 36
        }
      },
      "cell_type": "code",
      "source": [
        "im = val_tfms(open_image('/content/clouderizer/fast.ai/fastai/courses/dl1/data1/competitions/dog-breed-identification/test/68cfc459e57429b1f8b6372fa1363a60.jpg'))\n",
        " \n",
        "preds = learn.predict_array(im[None])\n",
        "\n",
        "np.argmax(preds)"
      ],
      "execution_count": 0,
      "outputs": [
        {
          "output_type": "execute_result",
          "data": {
            "text/plain": [
              "79"
            ]
          },
          "metadata": {
            "tags": []
          },
          "execution_count": 224
        }
      ]
    },
    {
      "metadata": {
        "id": "9xJ-UIy8DxeS",
        "colab_type": "text"
      },
      "cell_type": "markdown",
      "source": [
        "### 2"
      ]
    },
    {
      "metadata": {
        "id": "V6HTPYynD63e",
        "colab_type": "code",
        "outputId": "15650411-01d6-471b-882b-28f65b87b010",
        "colab": {
          "base_uri": "https://localhost:8080/",
          "height": 36
        }
      },
      "cell_type": "code",
      "source": [
        "fn = data.val_ds.fnames[10]; fn\n",
        "\n"
      ],
      "execution_count": 0,
      "outputs": [
        {
          "output_type": "execute_result",
          "data": {
            "text/plain": [
              "'train/00cc68a50b2d016a6b29af628ea4e04b.jpg'"
            ]
          },
          "metadata": {
            "tags": []
          },
          "execution_count": 243
        }
      ]
    },
    {
      "metadata": {
        "id": "YFw-gL5HGY2O",
        "colab_type": "code",
        "colab": {}
      },
      "cell_type": "code",
      "source": [
        "#Image.open(PATH + fn)\n",
        "open_image\n",
        "img = plt.imread(PATH + fn)\n",
        "plt.imshow(img);"
      ],
      "execution_count": 0,
      "outputs": []
    },
    {
      "metadata": {
        "id": "JuzShX1bD6oI",
        "colab_type": "code",
        "colab": {}
      },
      "cell_type": "code",
      "source": [
        "trn_tfms, val_tfms = tfms_from_model(arch, sz)"
      ],
      "execution_count": 0,
      "outputs": []
    },
    {
      "metadata": {
        "id": "0iTo7liVD6Rs",
        "colab_type": "code",
        "outputId": "c1d41e35-a324-47c6-cb81-096e2ef1f8d1",
        "colab": {
          "base_uri": "https://localhost:8080/",
          "height": 36
        }
      },
      "cell_type": "code",
      "source": [
        "im = val_tfms(open_image(PATH+fn))\n",
        " \n",
        "preds = learn.predict_array(im[None])\n",
        "\n",
        "np.argmax(preds)"
      ],
      "execution_count": 0,
      "outputs": [
        {
          "output_type": "execute_result",
          "data": {
            "text/plain": [
              "67"
            ]
          },
          "metadata": {
            "tags": []
          },
          "execution_count": 245
        }
      ]
    },
    {
      "metadata": {
        "id": "zpE5v4C3jNSC",
        "colab_type": "text"
      },
      "cell_type": "markdown",
      "source": [
        "## Download data to pc through google drive & syncronization"
      ]
    },
    {
      "metadata": {
        "id": "K4XDQ8PdjCkO",
        "colab_type": "code",
        "colab": {}
      },
      "cell_type": "code",
      "source": [
        "from google.colab import files\n",
        "files.download(\"/content/clouderizer/fast.ai/data/sub/subm10.gz\")"
      ],
      "execution_count": 0,
      "outputs": []
    }
  ]
}