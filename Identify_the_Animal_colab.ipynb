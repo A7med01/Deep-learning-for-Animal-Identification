{
  "nbformat": 4,
  "nbformat_minor": 0,
  "metadata": {
    "colab": {
      "name": "Identify the Animal_colab_GitHub.ipynb",
      "version": "0.3.2",
      "provenance": [],
      "collapsed_sections": [
        "Txu04YOgvh6i",
        "U4qraUZlsXyW",
        "ENgzcUSmsuZ4",
        "ZxUvWWxzx1dm",
        "vSZ858IC0h6e",
        "1R8tl600x-e8",
        "bAxPFHOGU9ZG",
        "nN4FgKoHqa9c"
      ]
    },
    "kernelspec": {
      "display_name": "Python 3",
      "language": "python",
      "name": "python3"
    },
    "accelerator": "GPU"
  },
  "cells": [
    {
      "metadata": {
        "id": "Txu04YOgvh6i",
        "colab_type": "text"
      },
      "cell_type": "markdown",
      "source": [
        "# Prepareing notebook"
      ]
    },
    {
      "metadata": {
        "id": "U4qraUZlsXyW",
        "colab_type": "text"
      },
      "cell_type": "markdown",
      "source": [
        "## Installing Fast.ai through clouderizer "
      ]
    },
    {
      "metadata": {
        "id": "3UpopmdXdPuu",
        "colab_type": "code",
        "colab": {}
      },
      "cell_type": "code",
      "source": [
        "!wget -NS --content-disposition \"https://console.clouderizer.com/givemeinitsh/hR1mde3W\" && bash ./clouderizer_init.sh"
      ],
      "execution_count": 0,
      "outputs": []
    },
    {
      "metadata": {
        "id": "ENgzcUSmsuZ4",
        "colab_type": "text"
      },
      "cell_type": "markdown",
      "source": [
        "## instaling libraries for plotting images "
      ]
    },
    {
      "metadata": {
        "id": "KNQ3KOaptanG",
        "colab_type": "code",
        "colab": {}
      },
      "cell_type": "code",
      "source": [
        "!pip install Pillow==4.0.0\n",
        "!pip install PIL\n",
        "!pip install image"
      ],
      "execution_count": 0,
      "outputs": []
    },
    {
      "metadata": {
        "id": "gTgv7aadt6Qq",
        "colab_type": "text"
      },
      "cell_type": "markdown",
      "source": [
        "#Getting the data "
      ]
    },
    {
      "metadata": {
        "id": "AGnx1_CHuMJM",
        "colab_type": "text"
      },
      "cell_type": "markdown",
      "source": [
        "## Downloading from internet"
      ]
    },
    {
      "metadata": {
        "id": "KU0yBYDPRoHN",
        "colab_type": "code",
        "colab": {}
      },
      "cell_type": "code",
      "source": [
        "!apt-get install p7zip-full"
      ],
      "execution_count": 0,
      "outputs": []
    },
    {
      "metadata": {
        "id": "5BFwhL49RDJY",
        "colab_type": "code",
        "colab": {}
      },
      "cell_type": "code",
      "source": [
        "mv 'DL#+Beginner.zip' 'DLBeginner.zip'"
      ],
      "execution_count": 0,
      "outputs": []
    },
    {
      "metadata": {
        "id": "RE8dgFYdRZ9i",
        "colab_type": "code",
        "colab": {}
      },
      "cell_type": "code",
      "source": [
        "rm -r DL#+Beginner.zip.1"
      ],
      "execution_count": 0,
      "outputs": []
    },
    {
      "metadata": {
        "id": "6ypLfSKdRRqM",
        "colab_type": "code",
        "colab": {}
      },
      "cell_type": "code",
      "source": [
        "ls{'/content/'}"
      ],
      "execution_count": 0,
      "outputs": []
    },
    {
      "metadata": {
        "id": "LFBy5EcyRuTC",
        "colab_type": "code",
        "colab": {}
      },
      "cell_type": "code",
      "source": [
        "!7z x DLBeginner.zip  -o/content/clouderizer/fast.ai/data/"
      ],
      "execution_count": 0,
      "outputs": []
    },
    {
      "metadata": {
        "id": "d9uVtqBH6buN",
        "colab_type": "code",
        "colab": {}
      },
      "cell_type": "code",
      "source": [
        "ls{'/content/clouderizer/fast.ai/data/\"DL# Beginner\"/'}"
      ],
      "execution_count": 0,
      "outputs": []
    },
    {
      "metadata": {
        "id": "zj866dOOdkV4",
        "colab_type": "code",
        "colab": {}
      },
      "cell_type": "code",
      "source": [
        "rm -r /content/DLBeginner.zip"
      ],
      "execution_count": 0,
      "outputs": []
    },
    {
      "metadata": {
        "id": "3yooeypnQkc6",
        "colab_type": "code",
        "colab": {}
      },
      "cell_type": "code",
      "source": [
        "!7z x /content/clouderizer/fast.ai/data/\"DL# Beginner\"/train.zip -o/content/clouderizer/fast.ai/data/"
      ],
      "execution_count": 0,
      "outputs": []
    },
    {
      "metadata": {
        "id": "haRmD7iVSBIT",
        "colab_type": "code",
        "colab": {}
      },
      "cell_type": "code",
      "source": [
        "!7z x /content/clouderizer/fast.ai/data/\"DL# Beginner\"/test.zip -o/content/clouderizer/fast.ai/data/"
      ],
      "execution_count": 0,
      "outputs": []
    },
    {
      "metadata": {
        "id": "YixWMyYeSGAK",
        "colab_type": "code",
        "colab": {}
      },
      "cell_type": "code",
      "source": [
        "!7z x /content/clouderizer/fast.ai/data/\"DL# Beginner\"/meta-data.zip -o/content/clouderizer/fast.ai/data/"
      ],
      "execution_count": 0,
      "outputs": []
    },
    {
      "metadata": {
        "id": "PwJI_pelR6YO",
        "colab_type": "code",
        "colab": {}
      },
      "cell_type": "code",
      "source": [
        "ls{'/content/clouderizer/fast.ai/data/'}"
      ],
      "execution_count": 0,
      "outputs": []
    },
    {
      "metadata": {
        "id": "ELqVh-YYSmn2",
        "colab_type": "code",
        "colab": {}
      },
      "cell_type": "code",
      "source": [
        "!cp /content/clouderizer/fast.ai/data/meta-data/sample_submission.csv /content/clouderizer/fast.ai/data/\n",
        "!cp /content/clouderizer/fast.ai/data/meta-data/test.csv /content/clouderizer/fast.ai/data/\n",
        "!cp /content/clouderizer/fast.ai/data/meta-data/train.csv /content/clouderizer/fast.ai/data/\n"
      ],
      "execution_count": 0,
      "outputs": []
    },
    {
      "metadata": {
        "id": "mrOxO-huTC6_",
        "colab_type": "code",
        "colab": {}
      },
      "cell_type": "code",
      "source": [
        "!rm -r /content/clouderizer/fast.ai/data/\"DL# Beginner\"/\n",
        "!rm -r /content/clouderizer/fast.ai/data/meta-data/"
      ],
      "execution_count": 0,
      "outputs": []
    },
    {
      "metadata": {
        "id": "29u7EGRbTHje",
        "colab_type": "code",
        "colab": {}
      },
      "cell_type": "code",
      "source": [
        "ls{'/content/clouderizer/fast.ai/data/'}"
      ],
      "execution_count": 0,
      "outputs": []
    },
    {
      "metadata": {
        "id": "Xpo8v15vfv3p",
        "colab_type": "code",
        "colab": {}
      },
      "cell_type": "code",
      "source": [
        "!rm -r /content/clouderizer/fast.ai/data/dogscats.zip\n",
        "!rm -r /content/clouderizer/fast.ai/data/dogscats"
      ],
      "execution_count": 0,
      "outputs": []
    },
    {
      "metadata": {
        "id": "DG9F6-1IJP8u",
        "colab_type": "code",
        "colab": {}
      },
      "cell_type": "code",
      "source": [
        "ls{'/content/clouderizer/fast.ai/data/'}"
      ],
      "execution_count": 0,
      "outputs": []
    },
    {
      "metadata": {
        "id": "ZxUvWWxzx1dm",
        "colab_type": "text"
      },
      "cell_type": "markdown",
      "source": [
        "# Problems & Fix"
      ]
    },
    {
      "metadata": {
        "id": "vSZ858IC0h6e",
        "colab_type": "text"
      },
      "cell_type": "markdown",
      "source": [
        "## Weights\n",
        "\n",
        "*   Cannot find  resnext_101_64x4d.pth\n",
        "\n",
        "\n"
      ]
    },
    {
      "metadata": {
        "id": "d2q0YKI404rc",
        "colab_type": "code",
        "colab": {}
      },
      "cell_type": "code",
      "source": [
        "!ls {\"/usr/local/lib/python3.6/dist-packages/fastai/weights/\"}"
      ],
      "execution_count": 0,
      "outputs": []
    },
    {
      "metadata": {
        "id": "idq2Q9LC38OQ",
        "colab_type": "code",
        "colab": {}
      },
      "cell_type": "code",
      "source": [
        "!ls {\"/content/clouderizer/fast.ai/fastai/courses/dl1/fastai/weights\"}"
      ],
      "execution_count": 0,
      "outputs": []
    },
    {
      "metadata": {
        "id": "9LoaTXTs1F3M",
        "colab_type": "code",
        "colab": {}
      },
      "cell_type": "code",
      "source": [
        "!mkdir -p /usr/local/lib/python3.6/dist-packages/fastai/weights/\n",
        "#!( cd /content/clouderizer/fast.ai/fastai/courses/dl1/fastai/weights && tar cf - . ) | (cd /usr/local/lib/python3.6/dist-packages/fastai/weights/ && tar xvpf - )\n",
        "! cp /content/clouderizer/fast.ai/fastai/courses/dl1/fastai/weights/resnext_101_64x4d.pth  /usr/local/lib/python3.6/dist-packages/fastai/weights"
      ],
      "execution_count": 0,
      "outputs": []
    },
    {
      "metadata": {
        "id": "V4C3q-KbqJuU",
        "colab_type": "code",
        "colab": {}
      },
      "cell_type": "code",
      "source": [
        "#!mkdir -p /content/clouderizer/fast.ai/fastai/courses/dl1/fastai/weights/"
      ],
      "execution_count": 0,
      "outputs": []
    },
    {
      "metadata": {
        "id": "5_EDbUxV4cuW",
        "colab_type": "code",
        "colab": {}
      },
      "cell_type": "code",
      "source": [
        "!wget http://files.fast.ai/models/weights.tgz -d\n",
        "!tar -xf /content/weights.tgz "
      ],
      "execution_count": 0,
      "outputs": []
    },
    {
      "metadata": {
        "id": "3vMFY0mBsgw4",
        "colab_type": "code",
        "colab": {}
      },
      "cell_type": "code",
      "source": [
        "mv /content/weights/resnext_101_64x4d.pth  /usr/local/lib/python3.6/dist-packages/fastai/weights/"
      ],
      "execution_count": 0,
      "outputs": []
    },
    {
      "metadata": {
        "id": "hdlzGUTqsngE",
        "colab_type": "code",
        "colab": {}
      },
      "cell_type": "code",
      "source": [
        "!ls {\"/usr/local/lib/python3.6/dist-packages/fastai/weights/\"}"
      ],
      "execution_count": 0,
      "outputs": []
    },
    {
      "metadata": {
        "id": "1R8tl600x-e8",
        "colab_type": "text"
      },
      "cell_type": "markdown",
      "source": [
        "## TTA\n",
        "\n",
        "*   AttributeError: ‘bool’ object has no attribute ‘mean’\" error in lesson1 Dogbreed example"
      ]
    },
    {
      "metadata": {
        "id": "Jx6iJbAPx0mw",
        "colab_type": "code",
        "colab": {}
      },
      "cell_type": "code",
      "source": [
        "!rm -r /usr/local/lib/python3.6/dist-packages/fastai/metrics.py\n",
        "#!ls {\"/usr/local/lib/python3.6/dist-packages/fastai/\"}\n",
        "!wget https://github.com/fastai/fastai/blob/f94fe9b08da60cf76b805ce9926a87b91b5eae24/fastai/metrics.py\n",
        "#!ls {\"/content/\"}\n",
        "!mv /content/metrics.py  /usr/local/lib/python3.6/dist-packages/fastai/\n",
        "!ls {\"/usr/local/lib/python3.6/dist-packages/fastai/\"}"
      ],
      "execution_count": 0,
      "outputs": []
    },
    {
      "metadata": {
        "id": "5OrQwfgfxbYw",
        "colab_type": "text"
      },
      "cell_type": "markdown",
      "source": [
        "# CODE"
      ]
    },
    {
      "metadata": {
        "id": "bAxPFHOGU9ZG",
        "colab_type": "text"
      },
      "cell_type": "markdown",
      "source": [
        "##Pre Training"
      ]
    },
    {
      "metadata": {
        "id": "5QmH83QDc_e8",
        "colab_type": "code",
        "colab": {}
      },
      "cell_type": "code",
      "source": [
        "# Put these at the top of every notebook, to get automatic reloading and inline plotting\n",
        "%reload_ext autoreload\n",
        "%autoreload 2\n",
        "%matplotlib inline"
      ],
      "execution_count": 0,
      "outputs": []
    },
    {
      "metadata": {
        "id": "pvcjwrBqc_fG",
        "colab_type": "code",
        "colab": {}
      },
      "cell_type": "code",
      "source": [
        "\n",
        "from fastai.imports import *\n",
        "from fastai.transforms import *\n",
        "from fastai.conv_learner import *\n",
        "from fastai.model import *\n",
        "from fastai.dataset import *\n",
        "from fastai.sgdr import *\n",
        "from fastai.plots import *"
      ],
      "execution_count": 0,
      "outputs": []
    },
    {
      "metadata": {
        "id": "4Y89GZRhc_fQ",
        "colab_type": "code",
        "colab": {}
      },
      "cell_type": "code",
      "source": [
        "torch.cuda.is_available()"
      ],
      "execution_count": 0,
      "outputs": []
    },
    {
      "metadata": {
        "id": "qm0BvUEHc_fk",
        "colab_type": "code",
        "colab": {}
      },
      "cell_type": "code",
      "source": [
        "torch.backends.cudnn.enabled"
      ],
      "execution_count": 0,
      "outputs": []
    },
    {
      "metadata": {
        "id": "BfHQYdSbISkA",
        "colab_type": "code",
        "colab": {}
      },
      "cell_type": "code",
      "source": [
        "PATH = \"/content/clouderizer/fast.ai/data/\"\n",
        "arch = resnext101_64"
      ],
      "execution_count": 0,
      "outputs": []
    },
    {
      "metadata": {
        "id": "E6I24tKWc_f-",
        "colab_type": "code",
        "colab": {}
      },
      "cell_type": "code",
      "source": [
        "sz=224"
      ],
      "execution_count": 0,
      "outputs": []
    },
    {
      "metadata": {
        "id": "UjKp0FlOV1xE",
        "colab_type": "code",
        "colab": {}
      },
      "cell_type": "code",
      "source": [
        "bs=16 #batch size"
      ],
      "execution_count": 0,
      "outputs": []
    },
    {
      "metadata": {
        "id": "bRw-LFyPmENU",
        "colab_type": "code",
        "colab": {}
      },
      "cell_type": "code",
      "source": [
        "!ls {\"/content/clouderizer/fast.ai/data/\"}"
      ],
      "execution_count": 0,
      "outputs": []
    },
    {
      "metadata": {
        "id": "MpdcaVI5j6YF",
        "colab_type": "code",
        "colab": {}
      },
      "cell_type": "code",
      "source": [
        "#!rm -r /content/clouderizer/fast.ai/data/tmp"
      ],
      "execution_count": 0,
      "outputs": []
    },
    {
      "metadata": {
        "id": "-lj7h5HfyU_-",
        "colab_type": "text"
      },
      "cell_type": "markdown",
      "source": [
        "###Making validation set"
      ]
    },
    {
      "metadata": {
        "id": "2s5KgC_Dc_gE",
        "colab_type": "code",
        "colab": {}
      },
      "cell_type": "code",
      "source": [
        "label_csv = f'{PATH}train.csv'\n",
        "n = len(list(open(label_csv)))-1 #number of trainig examples = # labels"
      ],
      "execution_count": 0,
      "outputs": []
    },
    {
      "metadata": {
        "id": "HJfCUDInXSSb",
        "colab_type": "code",
        "colab": {}
      },
      "cell_type": "code",
      "source": [
        "val_idxs = get_cv_idxs(n)        "
      ],
      "execution_count": 0,
      "outputs": []
    },
    {
      "metadata": {
        "id": "4YhtHbCdc_gQ",
        "colab_type": "code",
        "colab": {}
      },
      "cell_type": "code",
      "source": [
        "n"
      ],
      "execution_count": 0,
      "outputs": []
    },
    {
      "metadata": {
        "id": "EaHTA9AHc_gw",
        "colab_type": "code",
        "colab": {}
      },
      "cell_type": "code",
      "source": [
        "len(val_idxs)"
      ],
      "execution_count": 0,
      "outputs": []
    },
    {
      "metadata": {
        "id": "y1aEH43wc_hO",
        "colab_type": "code",
        "colab": {}
      },
      "cell_type": "code",
      "source": [
        "val_idxs"
      ],
      "execution_count": 0,
      "outputs": []
    },
    {
      "metadata": {
        "id": "20-bDejgz7YM",
        "colab_type": "text"
      },
      "cell_type": "markdown",
      "source": [
        "## Looking to the data "
      ]
    },
    {
      "metadata": {
        "id": "FCr9tD7Dc_hc",
        "colab_type": "code",
        "colab": {}
      },
      "cell_type": "code",
      "source": [
        "label_df = pd.read_csv(label_csv)\n",
        "label_df.head()"
      ],
      "execution_count": 0,
      "outputs": []
    },
    {
      "metadata": {
        "id": "BLLJMR3Kc_hy",
        "colab_type": "code",
        "colab": {}
      },
      "cell_type": "code",
      "source": [
        "label_df.pivot_table(index='Animal', aggfunc=len).sort_values('Image_id', ascending=False) #group it up"
      ],
      "execution_count": 0,
      "outputs": []
    },
    {
      "metadata": {
        "id": "x6vRad8vc_iA",
        "colab_type": "code",
        "colab": {}
      },
      "cell_type": "code",
      "source": [
        "tfms = tfms_from_model(arch, sz, aug_tfms=transforms_side_on, \n",
        "                       max_zoom=1.1)\n",
        "\n",
        "data = ImageClassifierData.from_csv(PATH, 'train', \n",
        "                 f'{PATH}train.csv', test_name='test', \n",
        "                 val_idxs = val_idxs , tfms=tfms, bs=bs)"
      ],
      "execution_count": 0,
      "outputs": []
    },
    {
      "metadata": {
        "id": "qLMOaXaWc_iM",
        "colab_type": "code",
        "colab": {}
      },
      "cell_type": "code",
      "source": [
        "#You can access to training dataset by saying data.trn_ds and trn_ds contains a lot of things including file names (fnames)\n",
        "fn = PATH + data.trn_ds.fnames[1]; fn "
      ],
      "execution_count": 0,
      "outputs": []
    },
    {
      "metadata": {
        "id": "3NGbAfE2c_iS",
        "colab_type": "code",
        "colab": {}
      },
      "cell_type": "code",
      "source": [
        "img = PIL.Image.open(fn); img"
      ],
      "execution_count": 0,
      "outputs": []
    },
    {
      "metadata": {
        "id": "j1qsgL10c_ia",
        "colab_type": "code",
        "colab": {}
      },
      "cell_type": "code",
      "source": [
        "img.size"
      ],
      "execution_count": 0,
      "outputs": []
    },
    {
      "metadata": {
        "id": "TQTPjt0chHTE",
        "colab_type": "text"
      },
      "cell_type": "markdown",
      "source": [
        "### to know all sizes am dealing with"
      ]
    },
    {
      "metadata": {
        "id": "-UX4RgbKc_iu",
        "colab_type": "code",
        "colab": {}
      },
      "cell_type": "code",
      "source": [
        "size_d = {k: PIL.Image.open(PATH+k).size for k in data.trn_ds.fnames} # match name to size "
      ],
      "execution_count": 0,
      "outputs": []
    },
    {
      "metadata": {
        "id": "Kw2hPA6Tc_i-",
        "colab_type": "code",
        "colab": {}
      },
      "cell_type": "code",
      "source": [
        "row_sz, col_sz = list(zip(*size_d.values()))"
      ],
      "execution_count": 0,
      "outputs": []
    },
    {
      "metadata": {
        "id": "u4fty6ylc_jG",
        "colab_type": "code",
        "colab": {}
      },
      "cell_type": "code",
      "source": [
        "row_sz = np.array(row_sz);  col_sz = np.array(col_sz); "
      ],
      "execution_count": 0,
      "outputs": []
    },
    {
      "metadata": {
        "id": "lOs_hRzMc_jM",
        "colab_type": "code",
        "colab": {}
      },
      "cell_type": "code",
      "source": [
        "row_sz[:15]"
      ],
      "execution_count": 0,
      "outputs": []
    },
    {
      "metadata": {
        "id": "I-k8-ohVc_jS",
        "colab_type": "code",
        "colab": {}
      },
      "cell_type": "code",
      "source": [
        "col_sz[:15]"
      ],
      "execution_count": 0,
      "outputs": []
    },
    {
      "metadata": {
        "id": "IiPw64R4c_jY",
        "colab_type": "code",
        "colab": {}
      },
      "cell_type": "code",
      "source": [
        "plt.hist(row_sz);"
      ],
      "execution_count": 0,
      "outputs": []
    },
    {
      "metadata": {
        "id": "bUzCl5eoc_je",
        "colab_type": "code",
        "colab": {}
      },
      "cell_type": "code",
      "source": [
        "plt.hist(col_sz);"
      ],
      "execution_count": 0,
      "outputs": []
    },
    {
      "metadata": {
        "id": "ZWe-CDA8c_ji",
        "colab_type": "code",
        "colab": {}
      },
      "cell_type": "code",
      "source": [
        "plt.hist(row_sz[row_sz<1000])"
      ],
      "execution_count": 0,
      "outputs": []
    },
    {
      "metadata": {
        "id": "WHOZHGOq0GtW",
        "colab_type": "text"
      },
      "cell_type": "markdown",
      "source": [
        "## Training"
      ]
    },
    {
      "metadata": {
        "id": "Ul0pcMQuc_jm",
        "colab_type": "code",
        "colab": {}
      },
      "cell_type": "code",
      "source": [
        "def get_data(sz, bs):\n",
        "    tfms = tfms_from_model(arch, sz, aug_tfms=transforms_side_on,\n",
        "                           max_zoom=1.1)\n",
        "    data = ImageClassifierData.from_csv(PATH, 'train', \n",
        "               f'{PATH}train.csv', test_name='test', num_workers=4,\n",
        "               val_idxs = val_idxs ,tfms=tfms, bs=bs)\n",
        "\n",
        "    return data if sz>300 else data.resize(340, 'tmp')"
      ],
      "execution_count": 0,
      "outputs": []
    },
    {
      "metadata": {
        "id": "cEiLCYCpc_kM",
        "colab_type": "code",
        "colab": {}
      },
      "cell_type": "code",
      "source": [
        "data = get_data(224, 64)\n",
        "\n",
        "learn = ConvLearner.pretrained(arch, data, precompute=True)\n",
        "\n",
        "#learn.fit(1e-2, 5)\n",
        "#learn.fit(0.01,4)"
      ],
      "execution_count": 0,
      "outputs": []
    },
    {
      "metadata": {
        "id": "nN4FgKoHqa9c",
        "colab_type": "text"
      },
      "cell_type": "markdown",
      "source": [
        "###choosing learning rate"
      ]
    },
    {
      "metadata": {
        "id": "BZ6Rh-Ns8RYS",
        "colab_type": "code",
        "colab": {}
      },
      "cell_type": "code",
      "source": [
        "#choosing learning rate\n",
        "lrf=learn.lr_find()"
      ],
      "execution_count": 0,
      "outputs": []
    },
    {
      "metadata": {
        "id": "qj0mOAaI8dPd",
        "colab_type": "code",
        "colab": {}
      },
      "cell_type": "code",
      "source": [
        "learn.sched.plot_lr()"
      ],
      "execution_count": 0,
      "outputs": []
    },
    {
      "metadata": {
        "id": "fOZOP8oC8WBV",
        "colab_type": "code",
        "colab": {}
      },
      "cell_type": "code",
      "source": [
        "learn.sched.plot()"
      ],
      "execution_count": 0,
      "outputs": []
    },
    {
      "metadata": {
        "id": "R0NS5jLeqgwx",
        "colab_type": "text"
      },
      "cell_type": "markdown",
      "source": [
        "### Continue Training "
      ]
    },
    {
      "metadata": {
        "id": "8Yrto0ZSmCX0",
        "colab_type": "code",
        "colab": {}
      },
      "cell_type": "code",
      "source": [
        "bs=64 #batch size"
      ],
      "execution_count": 0,
      "outputs": []
    },
    {
      "metadata": {
        "id": "7A8sGufvRW54",
        "colab_type": "code",
        "colab": {}
      },
      "cell_type": "code",
      "source": [
        "learn.precompute = False"
      ],
      "execution_count": 0,
      "outputs": []
    },
    {
      "metadata": {
        "id": "QInZdoMIRZI8",
        "colab_type": "code",
        "colab": {}
      },
      "cell_type": "code",
      "source": [
        "learn.fit(1e-2, 2, cycle_len=1)"
      ],
      "execution_count": 0,
      "outputs": []
    },
    {
      "metadata": {
        "id": "OkeTophrRc38",
        "colab_type": "code",
        "colab": {}
      },
      "cell_type": "code",
      "source": [
        "learn.save('224_pre')\n",
        "learn.load('224_pre')"
      ],
      "execution_count": 0,
      "outputs": []
    },
    {
      "metadata": {
        "id": "wLkRcU6NRczY",
        "colab_type": "code",
        "colab": {}
      },
      "cell_type": "code",
      "source": [
        "lr = 0.01"
      ],
      "execution_count": 0,
      "outputs": []
    },
    {
      "metadata": {
        "id": "1q2bXEClRcrp",
        "colab_type": "code",
        "colab": {}
      },
      "cell_type": "code",
      "source": [
        "lrs=np.array([1e-4,1e-3,1e-2])"
      ],
      "execution_count": 0,
      "outputs": []
    },
    {
      "metadata": {
        "id": "HwLvwsqZRcnP",
        "colab_type": "code",
        "colab": {}
      },
      "cell_type": "code",
      "source": [
        "learn.set_data(get_data(224, 16))\n",
        "learn.unfreeze()\n",
        "learn.fit(lrs, 2, cycle_len=1, cycle_mult=2)"
      ],
      "execution_count": 0,
      "outputs": []
    },
    {
      "metadata": {
        "id": "UsXsdVx-RclT",
        "colab_type": "code",
        "colab": {}
      },
      "cell_type": "code",
      "source": [
        "learn.save('224_unf')\n",
        "learn.load('224_unf')"
      ],
      "execution_count": 0,
      "outputs": []
    },
    {
      "metadata": {
        "id": "utAxQJFTRcez",
        "colab_type": "code",
        "colab": {}
      },
      "cell_type": "code",
      "source": [
        "learn.set_data(get_data(299, 64))\n",
        "learn.freeze()\n",
        "learn.fit(lr, 3, cycle_len=1, cycle_mult=2)"
      ],
      "execution_count": 0,
      "outputs": []
    },
    {
      "metadata": {
        "id": "VFKQFInzRyGh",
        "colab_type": "code",
        "colab": {}
      },
      "cell_type": "code",
      "source": [
        "learn.save('229_pre')\n",
        "learn.load('229_pre')"
      ],
      "execution_count": 0,
      "outputs": []
    },
    {
      "metadata": {
        "id": "XGBtQE-FRyCN",
        "colab_type": "code",
        "colab": {}
      },
      "cell_type": "code",
      "source": [
        "learn.set_data(get_data(360, 64))"
      ],
      "execution_count": 0,
      "outputs": []
    },
    {
      "metadata": {
        "id": "kiSow-v7Rx_e",
        "colab_type": "code",
        "colab": {}
      },
      "cell_type": "code",
      "source": [
        "learn.fit(lr, 2, cycle_len=1, cycle_mult=2)"
      ],
      "execution_count": 0,
      "outputs": []
    },
    {
      "metadata": {
        "id": "oJOtpEG3Rx6t",
        "colab_type": "code",
        "colab": {}
      },
      "cell_type": "code",
      "source": [
        "learn.save('360_pre')\n",
        "learn.load('360_pre')"
      ],
      "execution_count": 0,
      "outputs": []
    },
    {
      "metadata": {
        "id": "Ey-ENf7cx7y6",
        "colab_type": "code",
        "colab": {}
      },
      "cell_type": "code",
      "source": [
        "log_preds, y = learn.TTA()\n",
        "probs = np.mean(np.exp(log_preds),0)\n",
        "accuracy_np(probs,y) ,metrics.log_loss(y, probs)"
      ],
      "execution_count": 0,
      "outputs": []
    },
    {
      "metadata": {
        "id": "P7dOH9aAxkVp",
        "colab_type": "code",
        "colab": {}
      },
      "cell_type": "code",
      "source": [
        "learn.set_data(get_data(420, 16))"
      ],
      "execution_count": 0,
      "outputs": []
    },
    {
      "metadata": {
        "id": "euujKNIlRx1D",
        "colab_type": "code",
        "colab": {}
      },
      "cell_type": "code",
      "source": [
        "learn.fit(lr, 1 )"
      ],
      "execution_count": 0,
      "outputs": []
    },
    {
      "metadata": {
        "id": "3cUXgeVSKkRt",
        "colab_type": "code",
        "colab": {}
      },
      "cell_type": "code",
      "source": [
        "learn.fit(lr, 2 )"
      ],
      "execution_count": 0,
      "outputs": []
    },
    {
      "metadata": {
        "id": "7W1D2LUGziCJ",
        "colab_type": "code",
        "colab": {}
      },
      "cell_type": "code",
      "source": [
        "learn.save('420_pre')\n",
        "learn.load('420_pre')"
      ],
      "execution_count": 0,
      "outputs": []
    },
    {
      "metadata": {
        "id": "8kAfMelYznbu",
        "colab_type": "code",
        "colab": {}
      },
      "cell_type": "code",
      "source": [
        "learn.set_data(get_data(420, 64))\n",
        "log_preds, y = learn.TTA()\n",
        "probs = np.mean(np.exp(log_preds),0)\n",
        "accuracy_np(probs,y) ,metrics.log_loss(y, probs)"
      ],
      "execution_count": 0,
      "outputs": []
    },
    {
      "metadata": {
        "id": "45UZP-1ofGUw",
        "colab_type": "code",
        "colab": {}
      },
      "cell_type": "code",
      "source": [
        "learn.fit(lr, 1)"
      ],
      "execution_count": 0,
      "outputs": []
    },
    {
      "metadata": {
        "id": "U3UJG77Tj66r",
        "colab_type": "code",
        "colab": {}
      },
      "cell_type": "code",
      "source": [
        "learn.set_data(get_data(420, 128))\n",
        "log_preds, y = learn.TTA()\n",
        "probs = np.mean(np.exp(log_preds),0)\n",
        "accuracy_np(probs,y) ,metrics.log_loss(y, probs)"
      ],
      "execution_count": 0,
      "outputs": []
    },
    {
      "metadata": {
        "id": "vvBQrNEgsAKs",
        "colab_type": "code",
        "colab": {}
      },
      "cell_type": "code",
      "source": [
        "learn.save('420_pree')\n",
        "learn.load('420_pree')"
      ],
      "execution_count": 0,
      "outputs": []
    },
    {
      "metadata": {
        "id": "Fq8rVpVES4Nw",
        "colab_type": "text"
      },
      "cell_type": "markdown",
      "source": [
        "#After Training"
      ]
    },
    {
      "metadata": {
        "id": "5NHaPMDJWN2q",
        "colab_type": "text"
      },
      "cell_type": "markdown",
      "source": [
        "##Getting data to submit"
      ]
    },
    {
      "metadata": {
        "id": "qGR6-EguquW6",
        "colab_type": "code",
        "colab": {}
      },
      "cell_type": "code",
      "source": [
        "log_preds, y = learn.TTA(is_test=True)"
      ],
      "execution_count": 0,
      "outputs": []
    },
    {
      "metadata": {
        "id": "2f8XosBtrDXQ",
        "colab_type": "code",
        "colab": {}
      },
      "cell_type": "code",
      "source": [
        "probs = np.mean(np.exp(log_preds),0)"
      ],
      "execution_count": 0,
      "outputs": []
    },
    {
      "metadata": {
        "id": "BhTXTdLctj7i",
        "colab_type": "code",
        "colab": {}
      },
      "cell_type": "code",
      "source": [
        "probs.shape"
      ],
      "execution_count": 0,
      "outputs": []
    },
    {
      "metadata": {
        "id": "_Q52VLhttjmm",
        "colab_type": "code",
        "colab": {}
      },
      "cell_type": "code",
      "source": [
        "df = pd.DataFrame(probs)\n",
        "df.columns = data.classes"
      ],
      "execution_count": 0,
      "outputs": []
    },
    {
      "metadata": {
        "id": "2M8eM-3_ufGg",
        "colab_type": "code",
        "colab": {}
      },
      "cell_type": "code",
      "source": [
        "df.insert(0, 'image_id', [o[5:-4] for o in data.test_ds.fnames])"
      ],
      "execution_count": 0,
      "outputs": []
    },
    {
      "metadata": {
        "id": "LCqR969Nui3S",
        "colab_type": "code",
        "colab": {}
      },
      "cell_type": "code",
      "source": [
        "df.head()"
      ],
      "execution_count": 0,
      "outputs": []
    },
    {
      "metadata": {
        "id": "edxN3ZZjus8e",
        "colab_type": "code",
        "colab": {}
      },
      "cell_type": "code",
      "source": [
        "#make csv and zip it \n",
        "SUBM = f'{PATH}sub/' \n",
        "os.makedirs(SUBM, exist_ok=True) \n",
        "df.to_csv(f'{SUBM}subm4.gz', compression='gzip', index=False)"
      ],
      "execution_count": 0,
      "outputs": []
    },
    {
      "metadata": {
        "id": "hDm3r8dQvZJO",
        "colab_type": "code",
        "colab": {}
      },
      "cell_type": "code",
      "source": [
        "FileLink(f'{SUBM}subm4.gz') # download file"
      ],
      "execution_count": 0,
      "outputs": []
    },
    {
      "metadata": {
        "id": "zpE5v4C3jNSC",
        "colab_type": "text"
      },
      "cell_type": "markdown",
      "source": [
        "## Download data to pc"
      ]
    },
    {
      "metadata": {
        "id": "K4XDQ8PdjCkO",
        "colab_type": "code",
        "colab": {}
      },
      "cell_type": "code",
      "source": [
        "from google.colab import files\n",
        "files.download(\"/content/clouderizer/fast.ai/fastai/courses/dl1/data1/competitions/dog-breed-identification/sub/subm.gz\")"
      ],
      "execution_count": 0,
      "outputs": []
    }
  ]
}